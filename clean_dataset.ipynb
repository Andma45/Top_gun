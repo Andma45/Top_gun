{
 "cells": [
  {
   "cell_type": "code",
   "execution_count": 2,
   "metadata": {},
   "outputs": [],
   "source": [
    "import pandas as pd"
   ]
  },
  {
   "cell_type": "markdown",
   "metadata": {},
   "source": [
    "Importer les datasets"
   ]
  },
  {
   "cell_type": "code",
   "execution_count": 3,
   "metadata": {},
   "outputs": [],
   "source": [
    "df_aeronefs = pd.read_csv('aeronefs_2024-06-02.csv')\n",
    "df_composants = pd.read_csv('composants_2024-06-02.csv')\n",
    "df_logsvols = pd.read_csv('logs_vols_2024-06-02.csv')\n",
    "df_degradation = pd.read_csv('degradations_2024-06-02.csv')"
   ]
  },
  {
   "cell_type": "markdown",
   "metadata": {},
   "source": [
    "# Df_aeronefs"
   ]
  },
  {
   "cell_type": "markdown",
   "metadata": {},
   "source": [
    "Visualiser dataframe"
   ]
  },
  {
   "cell_type": "code",
   "execution_count": 4,
   "metadata": {},
   "outputs": [
    {
     "data": {
      "text/html": [
       "<div>\n",
       "<style scoped>\n",
       "    .dataframe tbody tr th:only-of-type {\n",
       "        vertical-align: middle;\n",
       "    }\n",
       "\n",
       "    .dataframe tbody tr th {\n",
       "        vertical-align: top;\n",
       "    }\n",
       "\n",
       "    .dataframe thead th {\n",
       "        text-align: right;\n",
       "    }\n",
       "</style>\n",
       "<table border=\"1\" class=\"dataframe\">\n",
       "  <thead>\n",
       "    <tr style=\"text-align: right;\">\n",
       "      <th></th>\n",
       "      <th>ref_aero</th>\n",
       "      <th>type_model</th>\n",
       "      <th>debut_service</th>\n",
       "      <th>last_maint</th>\n",
       "      <th>en_maintenance</th>\n",
       "      <th>end_maint</th>\n",
       "    </tr>\n",
       "  </thead>\n",
       "  <tbody>\n",
       "    <tr>\n",
       "      <th>0</th>\n",
       "      <td>E170_6353</td>\n",
       "      <td>E170</td>\n",
       "      <td>2000-03-17</td>\n",
       "      <td>2024-03-27 00:00:00</td>\n",
       "      <td>False</td>\n",
       "      <td>NaN</td>\n",
       "    </tr>\n",
       "    <tr>\n",
       "      <th>1</th>\n",
       "      <td>B767_2803</td>\n",
       "      <td>B767</td>\n",
       "      <td>2020-12-03</td>\n",
       "      <td>2024-06-01 00:00:00</td>\n",
       "      <td>False</td>\n",
       "      <td>NaN</td>\n",
       "    </tr>\n",
       "    <tr>\n",
       "      <th>2</th>\n",
       "      <td>CRJ700_6943</td>\n",
       "      <td>CRJ700</td>\n",
       "      <td>2015-01-29</td>\n",
       "      <td>2024-06-02</td>\n",
       "      <td>True</td>\n",
       "      <td>2024-06-03 14:13:00</td>\n",
       "    </tr>\n",
       "    <tr>\n",
       "      <th>3</th>\n",
       "      <td>A350_1177</td>\n",
       "      <td>A350</td>\n",
       "      <td>2005-08-07</td>\n",
       "      <td>2024-01-04 00:00:00</td>\n",
       "      <td>False</td>\n",
       "      <td>NaN</td>\n",
       "    </tr>\n",
       "    <tr>\n",
       "      <th>4</th>\n",
       "      <td>B777_4029</td>\n",
       "      <td>B777</td>\n",
       "      <td>2009-01-01</td>\n",
       "      <td>2024-06-01 00:00:00</td>\n",
       "      <td>False</td>\n",
       "      <td>NaN</td>\n",
       "    </tr>\n",
       "  </tbody>\n",
       "</table>\n",
       "</div>"
      ],
      "text/plain": [
       "      ref_aero type_model debut_service           last_maint  en_maintenance  \\\n",
       "0    E170_6353       E170    2000-03-17  2024-03-27 00:00:00           False   \n",
       "1    B767_2803       B767    2020-12-03  2024-06-01 00:00:00           False   \n",
       "2  CRJ700_6943     CRJ700    2015-01-29           2024-06-02            True   \n",
       "3    A350_1177       A350    2005-08-07  2024-01-04 00:00:00           False   \n",
       "4    B777_4029       B777    2009-01-01  2024-06-01 00:00:00           False   \n",
       "\n",
       "             end_maint  \n",
       "0                  NaN  \n",
       "1                  NaN  \n",
       "2  2024-06-03 14:13:00  \n",
       "3                  NaN  \n",
       "4                  NaN  "
      ]
     },
     "execution_count": 4,
     "metadata": {},
     "output_type": "execute_result"
    }
   ],
   "source": [
    "df_aeronefs.head()"
   ]
  },
  {
   "cell_type": "markdown",
   "metadata": {},
   "source": [
    "Visualiser les statistiques, types et nulles"
   ]
  },
  {
   "cell_type": "code",
   "execution_count": 5,
   "metadata": {},
   "outputs": [
    {
     "data": {
      "text/html": [
       "<div>\n",
       "<style scoped>\n",
       "    .dataframe tbody tr th:only-of-type {\n",
       "        vertical-align: middle;\n",
       "    }\n",
       "\n",
       "    .dataframe tbody tr th {\n",
       "        vertical-align: top;\n",
       "    }\n",
       "\n",
       "    .dataframe thead th {\n",
       "        text-align: right;\n",
       "    }\n",
       "</style>\n",
       "<table border=\"1\" class=\"dataframe\">\n",
       "  <thead>\n",
       "    <tr style=\"text-align: right;\">\n",
       "      <th></th>\n",
       "      <th>count</th>\n",
       "      <th>unique</th>\n",
       "      <th>top</th>\n",
       "      <th>freq</th>\n",
       "    </tr>\n",
       "  </thead>\n",
       "  <tbody>\n",
       "    <tr>\n",
       "      <th>ref_aero</th>\n",
       "      <td>232</td>\n",
       "      <td>231</td>\n",
       "      <td>E170_5551</td>\n",
       "      <td>2</td>\n",
       "    </tr>\n",
       "    <tr>\n",
       "      <th>type_model</th>\n",
       "      <td>232</td>\n",
       "      <td>15</td>\n",
       "      <td>A350</td>\n",
       "      <td>22</td>\n",
       "    </tr>\n",
       "    <tr>\n",
       "      <th>debut_service</th>\n",
       "      <td>232</td>\n",
       "      <td>227</td>\n",
       "      <td>2004-12-16</td>\n",
       "      <td>2</td>\n",
       "    </tr>\n",
       "    <tr>\n",
       "      <th>last_maint</th>\n",
       "      <td>232</td>\n",
       "      <td>79</td>\n",
       "      <td>2024-06-01 00:00:00</td>\n",
       "      <td>71</td>\n",
       "    </tr>\n",
       "    <tr>\n",
       "      <th>en_maintenance</th>\n",
       "      <td>232</td>\n",
       "      <td>2</td>\n",
       "      <td>False</td>\n",
       "      <td>217</td>\n",
       "    </tr>\n",
       "    <tr>\n",
       "      <th>end_maint</th>\n",
       "      <td>15</td>\n",
       "      <td>2</td>\n",
       "      <td>2024-06-03 14:13:00</td>\n",
       "      <td>13</td>\n",
       "    </tr>\n",
       "  </tbody>\n",
       "</table>\n",
       "</div>"
      ],
      "text/plain": [
       "               count unique                  top freq\n",
       "ref_aero         232    231            E170_5551    2\n",
       "type_model       232     15                 A350   22\n",
       "debut_service    232    227           2004-12-16    2\n",
       "last_maint       232     79  2024-06-01 00:00:00   71\n",
       "en_maintenance   232      2                False  217\n",
       "end_maint         15      2  2024-06-03 14:13:00   13"
      ]
     },
     "execution_count": 5,
     "metadata": {},
     "output_type": "execute_result"
    }
   ],
   "source": [
    "df_aeronefs.describe().T"
   ]
  },
  {
   "cell_type": "code",
   "execution_count": 6,
   "metadata": {},
   "outputs": [
    {
     "name": "stdout",
     "output_type": "stream",
     "text": [
      "<class 'pandas.core.frame.DataFrame'>\n",
      "RangeIndex: 232 entries, 0 to 231\n",
      "Data columns (total 6 columns):\n",
      " #   Column          Non-Null Count  Dtype \n",
      "---  ------          --------------  ----- \n",
      " 0   ref_aero        232 non-null    object\n",
      " 1   type_model      232 non-null    object\n",
      " 2   debut_service   232 non-null    object\n",
      " 3   last_maint      232 non-null    object\n",
      " 4   en_maintenance  232 non-null    bool  \n",
      " 5   end_maint       15 non-null     object\n",
      "dtypes: bool(1), object(5)\n",
      "memory usage: 9.4+ KB\n"
     ]
    }
   ],
   "source": [
    "df_aeronefs.info()"
   ]
  },
  {
   "cell_type": "markdown",
   "metadata": {},
   "source": [
    "# Df_composants"
   ]
  },
  {
   "cell_type": "code",
   "execution_count": 7,
   "metadata": {},
   "outputs": [
    {
     "data": {
      "text/html": [
       "<div>\n",
       "<style scoped>\n",
       "    .dataframe tbody tr th:only-of-type {\n",
       "        vertical-align: middle;\n",
       "    }\n",
       "\n",
       "    .dataframe tbody tr th {\n",
       "        vertical-align: top;\n",
       "    }\n",
       "\n",
       "    .dataframe thead th {\n",
       "        text-align: right;\n",
       "    }\n",
       "</style>\n",
       "<table border=\"1\" class=\"dataframe\">\n",
       "  <thead>\n",
       "    <tr style=\"text-align: right;\">\n",
       "      <th></th>\n",
       "      <th>ref_compo</th>\n",
       "      <th>categorie</th>\n",
       "      <th>aero</th>\n",
       "      <th>desc</th>\n",
       "      <th>lifespan</th>\n",
       "      <th>taux_usure_actuel</th>\n",
       "      <th>cout</th>\n",
       "    </tr>\n",
       "  </thead>\n",
       "  <tbody>\n",
       "    <tr>\n",
       "      <th>0</th>\n",
       "      <td>REAE170-E170_6353-0</td>\n",
       "      <td>Composants Critiques</td>\n",
       "      <td>E170_6353</td>\n",
       "      <td>Réacteur gauche</td>\n",
       "      <td>13045</td>\n",
       "      <td>53.308375</td>\n",
       "      <td>15552</td>\n",
       "    </tr>\n",
       "    <tr>\n",
       "      <th>1</th>\n",
       "      <td>REAE170-E170_6353-1</td>\n",
       "      <td>Composants Critiques</td>\n",
       "      <td>E170_6353</td>\n",
       "      <td>Réacteur droit</td>\n",
       "      <td>13626</td>\n",
       "      <td>50.111950</td>\n",
       "      <td>17559</td>\n",
       "    </tr>\n",
       "    <tr>\n",
       "      <th>2</th>\n",
       "      <td>SYSE170-E170_6353-2</td>\n",
       "      <td>Composants Critiques</td>\n",
       "      <td>E170_6353</td>\n",
       "      <td>Système de navigation</td>\n",
       "      <td>10541</td>\n",
       "      <td>16.730575</td>\n",
       "      <td>16514</td>\n",
       "    </tr>\n",
       "    <tr>\n",
       "      <th>3</th>\n",
       "      <td>ORDE170-E170_6353-3</td>\n",
       "      <td>Composants Critiques</td>\n",
       "      <td>E170_6353</td>\n",
       "      <td>Ordinateur de vol</td>\n",
       "      <td>10441</td>\n",
       "      <td>6.653075</td>\n",
       "      <td>16047</td>\n",
       "    </tr>\n",
       "    <tr>\n",
       "      <th>4</th>\n",
       "      <td>AUTE170-E170_6353-4</td>\n",
       "      <td>Composants Critiques</td>\n",
       "      <td>E170_6353</td>\n",
       "      <td>Autopilote</td>\n",
       "      <td>14847</td>\n",
       "      <td>42.033525</td>\n",
       "      <td>19362</td>\n",
       "    </tr>\n",
       "  </tbody>\n",
       "</table>\n",
       "</div>"
      ],
      "text/plain": [
       "             ref_compo             categorie       aero  \\\n",
       "0  REAE170-E170_6353-0  Composants Critiques  E170_6353   \n",
       "1  REAE170-E170_6353-1  Composants Critiques  E170_6353   \n",
       "2  SYSE170-E170_6353-2  Composants Critiques  E170_6353   \n",
       "3  ORDE170-E170_6353-3  Composants Critiques  E170_6353   \n",
       "4  AUTE170-E170_6353-4  Composants Critiques  E170_6353   \n",
       "\n",
       "                    desc  lifespan  taux_usure_actuel   cout  \n",
       "0        Réacteur gauche     13045          53.308375  15552  \n",
       "1         Réacteur droit     13626          50.111950  17559  \n",
       "2  Système de navigation     10541          16.730575  16514  \n",
       "3      Ordinateur de vol     10441           6.653075  16047  \n",
       "4             Autopilote     14847          42.033525  19362  "
      ]
     },
     "execution_count": 7,
     "metadata": {},
     "output_type": "execute_result"
    }
   ],
   "source": [
    "df_composants.head()"
   ]
  },
  {
   "cell_type": "code",
   "execution_count": 9,
   "metadata": {},
   "outputs": [
    {
     "data": {
      "text/html": [
       "<div>\n",
       "<style scoped>\n",
       "    .dataframe tbody tr th:only-of-type {\n",
       "        vertical-align: middle;\n",
       "    }\n",
       "\n",
       "    .dataframe tbody tr th {\n",
       "        vertical-align: top;\n",
       "    }\n",
       "\n",
       "    .dataframe thead th {\n",
       "        text-align: right;\n",
       "    }\n",
       "</style>\n",
       "<table border=\"1\" class=\"dataframe\">\n",
       "  <thead>\n",
       "    <tr style=\"text-align: right;\">\n",
       "      <th></th>\n",
       "      <th>count</th>\n",
       "      <th>mean</th>\n",
       "      <th>std</th>\n",
       "      <th>min</th>\n",
       "      <th>25%</th>\n",
       "      <th>50%</th>\n",
       "      <th>75%</th>\n",
       "      <th>max</th>\n",
       "    </tr>\n",
       "  </thead>\n",
       "  <tbody>\n",
       "    <tr>\n",
       "      <th>lifespan</th>\n",
       "      <td>10440.0</td>\n",
       "      <td>13571.933333</td>\n",
       "      <td>8481.014582</td>\n",
       "      <td>10023.00</td>\n",
       "      <td>11015.000000</td>\n",
       "      <td>12643.000000</td>\n",
       "      <td>13626.00000</td>\n",
       "      <td>68978.00000</td>\n",
       "    </tr>\n",
       "    <tr>\n",
       "      <th>taux_usure_actuel</th>\n",
       "      <td>10440.0</td>\n",
       "      <td>31.112570</td>\n",
       "      <td>17.292379</td>\n",
       "      <td>0.07</td>\n",
       "      <td>16.347733</td>\n",
       "      <td>31.151386</td>\n",
       "      <td>45.94789</td>\n",
       "      <td>68.91093</td>\n",
       "    </tr>\n",
       "    <tr>\n",
       "      <th>cout</th>\n",
       "      <td>10440.0</td>\n",
       "      <td>11420.044444</td>\n",
       "      <td>5763.304270</td>\n",
       "      <td>2021.00</td>\n",
       "      <td>4801.000000</td>\n",
       "      <td>12664.000000</td>\n",
       "      <td>16266.00000</td>\n",
       "      <td>19492.00000</td>\n",
       "    </tr>\n",
       "  </tbody>\n",
       "</table>\n",
       "</div>"
      ],
      "text/plain": [
       "                     count          mean          std       min           25%  \\\n",
       "lifespan           10440.0  13571.933333  8481.014582  10023.00  11015.000000   \n",
       "taux_usure_actuel  10440.0     31.112570    17.292379      0.07     16.347733   \n",
       "cout               10440.0  11420.044444  5763.304270   2021.00   4801.000000   \n",
       "\n",
       "                            50%          75%          max  \n",
       "lifespan           12643.000000  13626.00000  68978.00000  \n",
       "taux_usure_actuel     31.151386     45.94789     68.91093  \n",
       "cout               12664.000000  16266.00000  19492.00000  "
      ]
     },
     "execution_count": 9,
     "metadata": {},
     "output_type": "execute_result"
    }
   ],
   "source": [
    "df_composants.describe().T"
   ]
  },
  {
   "cell_type": "markdown",
   "metadata": {},
   "source": [
    "Il n'existe pas de valeurs nulles et les statistiques ont l'air correct"
   ]
  },
  {
   "cell_type": "code",
   "execution_count": 10,
   "metadata": {},
   "outputs": [
    {
     "name": "stdout",
     "output_type": "stream",
     "text": [
      "<class 'pandas.core.frame.DataFrame'>\n",
      "RangeIndex: 10440 entries, 0 to 10439\n",
      "Data columns (total 7 columns):\n",
      " #   Column             Non-Null Count  Dtype  \n",
      "---  ------             --------------  -----  \n",
      " 0   ref_compo          10440 non-null  object \n",
      " 1   categorie          10440 non-null  object \n",
      " 2   aero               10440 non-null  object \n",
      " 3   desc               10440 non-null  object \n",
      " 4   lifespan           10440 non-null  int64  \n",
      " 5   taux_usure_actuel  10440 non-null  float64\n",
      " 6   cout               10440 non-null  int64  \n",
      "dtypes: float64(1), int64(2), object(4)\n",
      "memory usage: 571.1+ KB\n"
     ]
    }
   ],
   "source": [
    "df_composants.info()"
   ]
  },
  {
   "cell_type": "markdown",
   "metadata": {},
   "source": [
    "# Df_logsvols"
   ]
  },
  {
   "cell_type": "code",
   "execution_count": 11,
   "metadata": {},
   "outputs": [
    {
     "data": {
      "text/html": [
       "<div>\n",
       "<style scoped>\n",
       "    .dataframe tbody tr th:only-of-type {\n",
       "        vertical-align: middle;\n",
       "    }\n",
       "\n",
       "    .dataframe tbody tr th {\n",
       "        vertical-align: top;\n",
       "    }\n",
       "\n",
       "    .dataframe thead th {\n",
       "        text-align: right;\n",
       "    }\n",
       "</style>\n",
       "<table border=\"1\" class=\"dataframe\">\n",
       "  <thead>\n",
       "    <tr style=\"text-align: right;\">\n",
       "      <th></th>\n",
       "      <th>ref_vol</th>\n",
       "      <th>aero_linked</th>\n",
       "      <th>jour_vol</th>\n",
       "      <th>time_en_air</th>\n",
       "      <th>sensor_data</th>\n",
       "      <th>etat_voyant</th>\n",
       "    </tr>\n",
       "  </thead>\n",
       "  <tbody>\n",
       "    <tr>\n",
       "      <th>0</th>\n",
       "      <td>V07679725</td>\n",
       "      <td>B767_4924</td>\n",
       "      <td>2024-06-02</td>\n",
       "      <td>7.0</td>\n",
       "      <td>{'temp': '-5.7°C', 'pressure': '930.6 hPa', 'v...</td>\n",
       "      <td>0</td>\n",
       "    </tr>\n",
       "    <tr>\n",
       "      <th>1</th>\n",
       "      <td>V02564879</td>\n",
       "      <td>B747_3165</td>\n",
       "      <td>2024-06-02</td>\n",
       "      <td>5.1</td>\n",
       "      <td>{'temp': '0.9°C', 'pressure': '950.6 hPa', 'vi...</td>\n",
       "      <td>0</td>\n",
       "    </tr>\n",
       "    <tr>\n",
       "      <th>2</th>\n",
       "      <td>V07933973</td>\n",
       "      <td>B757_2518</td>\n",
       "      <td>2024-06-02</td>\n",
       "      <td>7.7</td>\n",
       "      <td>{'temp': '-6.2°C', 'pressure': '975.5 hPa', 'v...</td>\n",
       "      <td>3</td>\n",
       "    </tr>\n",
       "    <tr>\n",
       "      <th>3</th>\n",
       "      <td>V02230187</td>\n",
       "      <td>A340_1047</td>\n",
       "      <td>2024-06-02</td>\n",
       "      <td>6.1</td>\n",
       "      <td>{'temp': '-25.3°C', 'pressure': '945.1 hPa', '...</td>\n",
       "      <td>1</td>\n",
       "    </tr>\n",
       "    <tr>\n",
       "      <th>4</th>\n",
       "      <td>V09071213</td>\n",
       "      <td>B757_6806</td>\n",
       "      <td>2024-06-02</td>\n",
       "      <td>4.5</td>\n",
       "      <td>{'temp': '11.1°C', 'pressure': '931.3 hPa', 'v...</td>\n",
       "      <td>0</td>\n",
       "    </tr>\n",
       "  </tbody>\n",
       "</table>\n",
       "</div>"
      ],
      "text/plain": [
       "     ref_vol aero_linked    jour_vol  time_en_air  \\\n",
       "0  V07679725   B767_4924  2024-06-02          7.0   \n",
       "1  V02564879   B747_3165  2024-06-02          5.1   \n",
       "2  V07933973   B757_2518  2024-06-02          7.7   \n",
       "3  V02230187   A340_1047  2024-06-02          6.1   \n",
       "4  V09071213   B757_6806  2024-06-02          4.5   \n",
       "\n",
       "                                         sensor_data  etat_voyant  \n",
       "0  {'temp': '-5.7°C', 'pressure': '930.6 hPa', 'v...            0  \n",
       "1  {'temp': '0.9°C', 'pressure': '950.6 hPa', 'vi...            0  \n",
       "2  {'temp': '-6.2°C', 'pressure': '975.5 hPa', 'v...            3  \n",
       "3  {'temp': '-25.3°C', 'pressure': '945.1 hPa', '...            1  \n",
       "4  {'temp': '11.1°C', 'pressure': '931.3 hPa', 'v...            0  "
      ]
     },
     "execution_count": 11,
     "metadata": {},
     "output_type": "execute_result"
    }
   ],
   "source": [
    "df_logsvols.head()"
   ]
  },
  {
   "cell_type": "code",
   "execution_count": 13,
   "metadata": {},
   "outputs": [
    {
     "name": "stdout",
     "output_type": "stream",
     "text": [
      "<class 'pandas.core.frame.DataFrame'>\n",
      "RangeIndex: 99 entries, 0 to 98\n",
      "Data columns (total 6 columns):\n",
      " #   Column       Non-Null Count  Dtype  \n",
      "---  ------       --------------  -----  \n",
      " 0   ref_vol      99 non-null     object \n",
      " 1   aero_linked  99 non-null     object \n",
      " 2   jour_vol     99 non-null     object \n",
      " 3   time_en_air  99 non-null     float64\n",
      " 4   sensor_data  99 non-null     object \n",
      " 5   etat_voyant  99 non-null     int64  \n",
      "dtypes: float64(1), int64(1), object(4)\n",
      "memory usage: 4.8+ KB\n"
     ]
    }
   ],
   "source": [
    "df_logsvols.info()"
   ]
  },
  {
   "cell_type": "code",
   "execution_count": 12,
   "metadata": {},
   "outputs": [
    {
     "data": {
      "text/plain": [
       "0     {'temp': '-5.7°C', 'pressure': '930.6 hPa', 'v...\n",
       "1     {'temp': '0.9°C', 'pressure': '950.6 hPa', 'vi...\n",
       "2     {'temp': '-6.2°C', 'pressure': '975.5 hPa', 'v...\n",
       "3     {'temp': '-25.3°C', 'pressure': '945.1 hPa', '...\n",
       "4     {'temp': '11.1°C', 'pressure': '931.3 hPa', 'v...\n",
       "                            ...                        \n",
       "94    {'temp': '-15.8°C', 'pressure': '967.0 hPa', '...\n",
       "95    {'temp': '-6.4°C', 'pressure': '966.1 hPa', 'v...\n",
       "96    {'temp': '-18.3°C', 'pressure': '973.3 hPa', '...\n",
       "97    {'temp': '2.8°C', 'pressure': '949.4 hPa', 'vi...\n",
       "98    {'temp': '-6.0°C', 'pressure': '925.1 hPa', 'v...\n",
       "Name: sensor_data, Length: 99, dtype: object"
      ]
     },
     "execution_count": 12,
     "metadata": {},
     "output_type": "execute_result"
    }
   ],
   "source": [
    "df_logsvols[\"sensor_data\"]"
   ]
  },
  {
   "cell_type": "markdown",
   "metadata": {},
   "source": [
    "# Df_degradation"
   ]
  },
  {
   "cell_type": "code",
   "execution_count": 14,
   "metadata": {},
   "outputs": [
    {
     "data": {
      "text/html": [
       "<div>\n",
       "<style scoped>\n",
       "    .dataframe tbody tr th:only-of-type {\n",
       "        vertical-align: middle;\n",
       "    }\n",
       "\n",
       "    .dataframe tbody tr th {\n",
       "        vertical-align: top;\n",
       "    }\n",
       "\n",
       "    .dataframe thead th {\n",
       "        text-align: right;\n",
       "    }\n",
       "</style>\n",
       "<table border=\"1\" class=\"dataframe\">\n",
       "  <thead>\n",
       "    <tr style=\"text-align: right;\">\n",
       "      <th></th>\n",
       "      <th>ref_deg</th>\n",
       "      <th>linked_aero</th>\n",
       "      <th>compo_concerned</th>\n",
       "      <th>usure_nouvelle</th>\n",
       "      <th>measure_day</th>\n",
       "      <th>need_replacement</th>\n",
       "    </tr>\n",
       "  </thead>\n",
       "  <tbody>\n",
       "    <tr>\n",
       "      <th>0</th>\n",
       "      <td>D003661</td>\n",
       "      <td>E170_6353</td>\n",
       "      <td>REAE170-E170_6353-0</td>\n",
       "      <td>53.308375</td>\n",
       "      <td>2024-06-01</td>\n",
       "      <td>False</td>\n",
       "    </tr>\n",
       "    <tr>\n",
       "      <th>1</th>\n",
       "      <td>D009402</td>\n",
       "      <td>E170_6353</td>\n",
       "      <td>REAE170-E170_6353-1</td>\n",
       "      <td>50.111950</td>\n",
       "      <td>2024-06-01</td>\n",
       "      <td>False</td>\n",
       "    </tr>\n",
       "    <tr>\n",
       "      <th>2</th>\n",
       "      <td>D000812</td>\n",
       "      <td>E170_6353</td>\n",
       "      <td>SYSE170-E170_6353-2</td>\n",
       "      <td>16.730575</td>\n",
       "      <td>2024-06-01</td>\n",
       "      <td>False</td>\n",
       "    </tr>\n",
       "    <tr>\n",
       "      <th>3</th>\n",
       "      <td>D006665</td>\n",
       "      <td>E170_6353</td>\n",
       "      <td>ORDE170-E170_6353-3</td>\n",
       "      <td>6.653075</td>\n",
       "      <td>2024-06-01</td>\n",
       "      <td>False</td>\n",
       "    </tr>\n",
       "    <tr>\n",
       "      <th>4</th>\n",
       "      <td>D001163</td>\n",
       "      <td>E170_6353</td>\n",
       "      <td>AUTE170-E170_6353-4</td>\n",
       "      <td>42.033525</td>\n",
       "      <td>2024-06-01</td>\n",
       "      <td>False</td>\n",
       "    </tr>\n",
       "  </tbody>\n",
       "</table>\n",
       "</div>"
      ],
      "text/plain": [
       "   ref_deg linked_aero      compo_concerned  usure_nouvelle measure_day  \\\n",
       "0  D003661   E170_6353  REAE170-E170_6353-0       53.308375  2024-06-01   \n",
       "1  D009402   E170_6353  REAE170-E170_6353-1       50.111950  2024-06-01   \n",
       "2  D000812   E170_6353  SYSE170-E170_6353-2       16.730575  2024-06-01   \n",
       "3  D006665   E170_6353  ORDE170-E170_6353-3        6.653075  2024-06-01   \n",
       "4  D001163   E170_6353  AUTE170-E170_6353-4       42.033525  2024-06-01   \n",
       "\n",
       "   need_replacement  \n",
       "0             False  \n",
       "1             False  \n",
       "2             False  \n",
       "3             False  \n",
       "4             False  "
      ]
     },
     "execution_count": 14,
     "metadata": {},
     "output_type": "execute_result"
    }
   ],
   "source": [
    "df_degradation.head()"
   ]
  },
  {
   "cell_type": "code",
   "execution_count": 15,
   "metadata": {},
   "outputs": [
    {
     "data": {
      "text/html": [
       "<div>\n",
       "<style scoped>\n",
       "    .dataframe tbody tr th:only-of-type {\n",
       "        vertical-align: middle;\n",
       "    }\n",
       "\n",
       "    .dataframe tbody tr th {\n",
       "        vertical-align: top;\n",
       "    }\n",
       "\n",
       "    .dataframe thead th {\n",
       "        text-align: right;\n",
       "    }\n",
       "</style>\n",
       "<table border=\"1\" class=\"dataframe\">\n",
       "  <thead>\n",
       "    <tr style=\"text-align: right;\">\n",
       "      <th></th>\n",
       "      <th>count</th>\n",
       "      <th>mean</th>\n",
       "      <th>std</th>\n",
       "      <th>min</th>\n",
       "      <th>25%</th>\n",
       "      <th>50%</th>\n",
       "      <th>75%</th>\n",
       "      <th>max</th>\n",
       "    </tr>\n",
       "  </thead>\n",
       "  <tbody>\n",
       "    <tr>\n",
       "      <th>usure_nouvelle</th>\n",
       "      <td>10530.0</td>\n",
       "      <td>31.106612</td>\n",
       "      <td>17.293706</td>\n",
       "      <td>0.11</td>\n",
       "      <td>16.355291</td>\n",
       "      <td>31.102806</td>\n",
       "      <td>45.887166</td>\n",
       "      <td>68.91093</td>\n",
       "    </tr>\n",
       "  </tbody>\n",
       "</table>\n",
       "</div>"
      ],
      "text/plain": [
       "                  count       mean        std   min        25%        50%  \\\n",
       "usure_nouvelle  10530.0  31.106612  17.293706  0.11  16.355291  31.102806   \n",
       "\n",
       "                      75%       max  \n",
       "usure_nouvelle  45.887166  68.91093  "
      ]
     },
     "execution_count": 15,
     "metadata": {},
     "output_type": "execute_result"
    }
   ],
   "source": [
    "df_degradation.describe().T"
   ]
  },
  {
   "cell_type": "code",
   "execution_count": 16,
   "metadata": {},
   "outputs": [
    {
     "name": "stdout",
     "output_type": "stream",
     "text": [
      "<class 'pandas.core.frame.DataFrame'>\n",
      "RangeIndex: 10530 entries, 0 to 10529\n",
      "Data columns (total 6 columns):\n",
      " #   Column            Non-Null Count  Dtype  \n",
      "---  ------            --------------  -----  \n",
      " 0   ref_deg           10530 non-null  object \n",
      " 1   linked_aero       10530 non-null  object \n",
      " 2   compo_concerned   10530 non-null  object \n",
      " 3   usure_nouvelle    10530 non-null  float64\n",
      " 4   measure_day       10530 non-null  object \n",
      " 5   need_replacement  10530 non-null  bool   \n",
      "dtypes: bool(1), float64(1), object(4)\n",
      "memory usage: 421.7+ KB\n"
     ]
    }
   ],
   "source": [
    "df_degradation.info()"
   ]
  }
 ],
 "metadata": {
  "kernelspec": {
   "display_name": "Python 3",
   "language": "python",
   "name": "python3"
  },
  "language_info": {
   "codemirror_mode": {
    "name": "ipython",
    "version": 3
   },
   "file_extension": ".py",
   "mimetype": "text/x-python",
   "name": "python",
   "nbconvert_exporter": "python",
   "pygments_lexer": "ipython3",
   "version": "3.12.2"
  }
 },
 "nbformat": 4,
 "nbformat_minor": 2
}
