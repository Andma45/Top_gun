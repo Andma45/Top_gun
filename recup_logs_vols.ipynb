{
 "cells": [
  {
   "cell_type": "code",
   "execution_count": 1,
   "metadata": {},
   "outputs": [],
   "source": [
    "import pandas as pd\n",
    "import requests\n",
    "from datetime import datetime\n",
    "from sqlalchemy import create_engine, inspect\n",
    "import io\n",
    "import json\n",
    "import os\n",
    "import re"
   ]
  },
  {
   "cell_type": "code",
   "execution_count": 2,
   "metadata": {},
   "outputs": [
    {
     "data": {
      "text/html": [
       "<div>\n",
       "<style scoped>\n",
       "    .dataframe tbody tr th:only-of-type {\n",
       "        vertical-align: middle;\n",
       "    }\n",
       "\n",
       "    .dataframe tbody tr th {\n",
       "        vertical-align: top;\n",
       "    }\n",
       "\n",
       "    .dataframe thead th {\n",
       "        text-align: right;\n",
       "    }\n",
       "</style>\n",
       "<table border=\"1\" class=\"dataframe\">\n",
       "  <thead>\n",
       "    <tr style=\"text-align: right;\">\n",
       "      <th></th>\n",
       "      <th>ref_vol</th>\n",
       "      <th>aero_linked</th>\n",
       "      <th>jour_vol</th>\n",
       "      <th>time_en_air</th>\n",
       "      <th>sensor_data</th>\n",
       "      <th>etat_voyant</th>\n",
       "    </tr>\n",
       "  </thead>\n",
       "  <tbody>\n",
       "    <tr>\n",
       "      <th>0</th>\n",
       "      <td>V03826762</td>\n",
       "      <td>A380_4294</td>\n",
       "      <td>2024-06-18</td>\n",
       "      <td>6.4</td>\n",
       "      <td>{'temp': '5.1°C', 'pressure': '905.1 hPa', 'vi...</td>\n",
       "      <td>0</td>\n",
       "    </tr>\n",
       "    <tr>\n",
       "      <th>1</th>\n",
       "      <td>V09631780</td>\n",
       "      <td>CRJ700_3181</td>\n",
       "      <td>2024-06-18</td>\n",
       "      <td>8.7</td>\n",
       "      <td>{'temp': '-2.7°C', 'pressure': '933.6 hPa', 'v...</td>\n",
       "      <td>0</td>\n",
       "    </tr>\n",
       "    <tr>\n",
       "      <th>2</th>\n",
       "      <td>V08439611</td>\n",
       "      <td>A330_0921</td>\n",
       "      <td>2024-06-18</td>\n",
       "      <td>4.7</td>\n",
       "      <td>{'temp': '11.4°C', 'pressure': '889.4 hPa', 'v...</td>\n",
       "      <td>0</td>\n",
       "    </tr>\n",
       "    <tr>\n",
       "      <th>3</th>\n",
       "      <td>V00425601</td>\n",
       "      <td>B747_6800</td>\n",
       "      <td>2024-06-18</td>\n",
       "      <td>2.6</td>\n",
       "      <td>{'temp': '-8.9°C', 'pressure': '1072.6 hPa', '...</td>\n",
       "      <td>0</td>\n",
       "    </tr>\n",
       "    <tr>\n",
       "      <th>4</th>\n",
       "      <td>V03836886</td>\n",
       "      <td>A380_2079</td>\n",
       "      <td>2024-06-18</td>\n",
       "      <td>3.2</td>\n",
       "      <td>{'temp': '-6.5°C', 'pressure': '872.3 hPa', 'v...</td>\n",
       "      <td>0</td>\n",
       "    </tr>\n",
       "    <tr>\n",
       "      <th>5</th>\n",
       "      <td>V08406955</td>\n",
       "      <td>B737_1117</td>\n",
       "      <td>2024-06-18</td>\n",
       "      <td>7.6</td>\n",
       "      <td>{'temp': '9.5°C', 'pressure': '943.6 hPa', 'vi...</td>\n",
       "      <td>0</td>\n",
       "    </tr>\n",
       "    <tr>\n",
       "      <th>6</th>\n",
       "      <td>V08050316</td>\n",
       "      <td>A320_2562</td>\n",
       "      <td>2024-06-18</td>\n",
       "      <td>5.0</td>\n",
       "      <td>{'temp': '-13.2°C', 'pressure': '1047.5 hPa', ...</td>\n",
       "      <td>1</td>\n",
       "    </tr>\n",
       "    <tr>\n",
       "      <th>7</th>\n",
       "      <td>V09424063</td>\n",
       "      <td>B757_0697</td>\n",
       "      <td>2024-06-18</td>\n",
       "      <td>5.4</td>\n",
       "      <td>{'temp': '-9.4°C', 'pressure': '970.7 hPa', 'v...</td>\n",
       "      <td>0</td>\n",
       "    </tr>\n",
       "    <tr>\n",
       "      <th>8</th>\n",
       "      <td>V09946874</td>\n",
       "      <td>A350_3976</td>\n",
       "      <td>2024-06-18</td>\n",
       "      <td>8.2</td>\n",
       "      <td>{'temp': '10.9°C', 'pressure': '933.0 hPa', 'v...</td>\n",
       "      <td>0</td>\n",
       "    </tr>\n",
       "    <tr>\n",
       "      <th>9</th>\n",
       "      <td>V00954197</td>\n",
       "      <td>A321_1968</td>\n",
       "      <td>2024-06-18</td>\n",
       "      <td>2.6</td>\n",
       "      <td>{'temp': '1.8°C', 'pressure': '971.1 hPa', 'vi...</td>\n",
       "      <td>0</td>\n",
       "    </tr>\n",
       "  </tbody>\n",
       "</table>\n",
       "</div>"
      ],
      "text/plain": [
       "     ref_vol  aero_linked    jour_vol  time_en_air  \\\n",
       "0  V03826762    A380_4294  2024-06-18          6.4   \n",
       "1  V09631780  CRJ700_3181  2024-06-18          8.7   \n",
       "2  V08439611    A330_0921  2024-06-18          4.7   \n",
       "3  V00425601    B747_6800  2024-06-18          2.6   \n",
       "4  V03836886    A380_2079  2024-06-18          3.2   \n",
       "5  V08406955    B737_1117  2024-06-18          7.6   \n",
       "6  V08050316    A320_2562  2024-06-18          5.0   \n",
       "7  V09424063    B757_0697  2024-06-18          5.4   \n",
       "8  V09946874    A350_3976  2024-06-18          8.2   \n",
       "9  V00954197    A321_1968  2024-06-18          2.6   \n",
       "\n",
       "                                         sensor_data  etat_voyant  \n",
       "0  {'temp': '5.1°C', 'pressure': '905.1 hPa', 'vi...            0  \n",
       "1  {'temp': '-2.7°C', 'pressure': '933.6 hPa', 'v...            0  \n",
       "2  {'temp': '11.4°C', 'pressure': '889.4 hPa', 'v...            0  \n",
       "3  {'temp': '-8.9°C', 'pressure': '1072.6 hPa', '...            0  \n",
       "4  {'temp': '-6.5°C', 'pressure': '872.3 hPa', 'v...            0  \n",
       "5  {'temp': '9.5°C', 'pressure': '943.6 hPa', 'vi...            0  \n",
       "6  {'temp': '-13.2°C', 'pressure': '1047.5 hPa', ...            1  \n",
       "7  {'temp': '-9.4°C', 'pressure': '970.7 hPa', 'v...            0  \n",
       "8  {'temp': '10.9°C', 'pressure': '933.0 hPa', 'v...            0  \n",
       "9  {'temp': '1.8°C', 'pressure': '971.1 hPa', 'vi...            0  "
      ]
     },
     "execution_count": 2,
     "metadata": {},
     "output_type": "execute_result"
    }
   ],
   "source": [
    "logs_vols = pd.read_csv(r'http://sc-e.fr/docs/logs_vols_2024-06-18.csv')\n",
    "logs_vols.head(10)"
   ]
  },
  {
   "cell_type": "code",
   "execution_count": 3,
   "metadata": {},
   "outputs": [
    {
     "data": {
      "text/plain": [
       "(84, 6)"
      ]
     },
     "execution_count": 3,
     "metadata": {},
     "output_type": "execute_result"
    }
   ],
   "source": [
    "logs_vols.shape"
   ]
  },
  {
   "cell_type": "code",
   "execution_count": 4,
   "metadata": {},
   "outputs": [
    {
     "data": {
      "text/html": [
       "<div>\n",
       "<style scoped>\n",
       "    .dataframe tbody tr th:only-of-type {\n",
       "        vertical-align: middle;\n",
       "    }\n",
       "\n",
       "    .dataframe tbody tr th {\n",
       "        vertical-align: top;\n",
       "    }\n",
       "\n",
       "    .dataframe thead th {\n",
       "        text-align: right;\n",
       "    }\n",
       "</style>\n",
       "<table border=\"1\" class=\"dataframe\">\n",
       "  <thead>\n",
       "    <tr style=\"text-align: right;\">\n",
       "      <th></th>\n",
       "      <th>ref_vol</th>\n",
       "      <th>aero_linked</th>\n",
       "      <th>jour_vol</th>\n",
       "      <th>time_en_air</th>\n",
       "      <th>sensor_data</th>\n",
       "      <th>etat_voyant</th>\n",
       "    </tr>\n",
       "  </thead>\n",
       "  <tbody>\n",
       "  </tbody>\n",
       "</table>\n",
       "</div>"
      ],
      "text/plain": [
       "Empty DataFrame\n",
       "Columns: [ref_vol, aero_linked, jour_vol, time_en_air, sensor_data, etat_voyant]\n",
       "Index: []"
      ]
     },
     "execution_count": 4,
     "metadata": {},
     "output_type": "execute_result"
    }
   ],
   "source": [
    "aero_e170_5551 = logs_vols[logs_vols['aero_linked'] == 'E170_5551']\n",
    "aero_e170_5551"
   ]
  },
  {
   "cell_type": "code",
   "execution_count": 5,
   "metadata": {},
   "outputs": [],
   "source": [
    "# date du jour\n",
    "date_today = datetime.today().strftime('%Y-%m-%d')"
   ]
  },
  {
   "cell_type": "code",
   "execution_count": 6,
   "metadata": {},
   "outputs": [],
   "source": [
    "# Configurer la connexion à la base de données\n",
    "db_path = r'C:\\Document\\Python\\Projet\\Projet_3\\Top_gun\\bdd_sql\\top_gun_data_1.db'\n",
    "engine = create_engine(f'sqlite:///{db_path}')\n",
    "\n",
    "date_defini = '2024-06-21'"
   ]
  },
  {
   "cell_type": "code",
   "execution_count": 7,
   "metadata": {},
   "outputs": [],
   "source": [
    "# Fonction pour nettoyer les données\n",
    "def clean_data(df):\n",
    "    # Fonction pour corriger le format JSON\n",
    "    def fix_json_format(x):\n",
    "        return x.replace(\"'\", '\"')\n",
    "    \n",
    "    # Transformer la colonne 'sensor_data' de JSON en plusieurs colonnes\n",
    "    df['sensor_data'] = df['sensor_data'].apply(lambda x: json.loads(fix_json_format(x)))\n",
    "    sensor_data_df = pd.json_normalize(df['sensor_data'])\n",
    "    df = pd.concat([df.drop(columns=['sensor_data']), sensor_data_df], axis=1)\n",
    "    \n",
    "    # Transformer la colonne 'jour_vol' au format date\n",
    "    df['jour_vol'] = pd.to_datetime(df['jour_vol'], format='%Y-%m-%d', errors='coerce').dt.date\n",
    "    \n",
    "    # Nettoyer les colonnes 'temp', 'pressure', et 'vibrations'\n",
    "    df['temp en °C'] = df['temp'].replace('°C', '', regex=True).astype(float)\n",
    "    df['pressure en hPa'] = df['pressure'].replace('hPa', '', regex=True).astype(float)\n",
    "    df['vibrations en m/s²'] = df['vibrations'].replace('m/s²', '', regex=True).astype(float).round(3)\n",
    "    df.drop(columns=['temp', 'pressure', 'vibrations'], inplace=True)\n",
    "    \n",
    "    # Exclure les lignes où 'aero_linked' est 'E170_5551'\n",
    "    df = df[df['aero_linked'] != 'E170_5551']\n",
    "\n",
    "    return df"
   ]
  },
  {
   "cell_type": "code",
   "execution_count": 8,
   "metadata": {},
   "outputs": [
    {
     "name": "stdout",
     "output_type": "stream",
     "text": [
      "La table 'logs_vols' existe déjà, aucune initialisation nécessaire.\n",
      "Données de 2024-06-21 ajoutées à la base de données.\n"
     ]
    }
   ],
   "source": [
    "# Vérifier si une table existe déjà dans la base de données\n",
    "def table_exists(engine, table_name):\n",
    "    inspector = inspect(engine)\n",
    "    return inspector.has_table(table_name)\n",
    "\n",
    "# Fonction pour initialiser la base de données avec le fichier d'origine si la table n'existe pas\n",
    "def initialize_database(engine):\n",
    "    if not table_exists(engine, 'logs_vols'):\n",
    "        logs_vols_data = pd.read_csv(r'C:\\Document\\Python\\Projet\\Projet_3\\Top_gun\\Datasets\\df_logs_vols\\logs_vols_2024-06-02.csv')\n",
    "        \n",
    "        # Nettoyer les données\n",
    "        cleaned_data = clean_data(logs_vols_data)\n",
    "        \n",
    "        # Stocker les données dans la base de données SQL\n",
    "        cleaned_data.to_sql(name='logs_vols', con=engine, if_exists='replace', index=False)\n",
    "        print(\"Base de données initialisée avec le fichier d'origine.\")\n",
    "    else:\n",
    "        print(\"La table 'logs_vols' existe déjà, aucune initialisation nécessaire.\")\n",
    "\n",
    "# Fonction pour récupérer les données logs_vols et les stocker dans la base de données SQL\n",
    "def recup_log_vols(date, engine):\n",
    "    url = f\"http://sc-e.fr/docs/logs_vols_{date}.csv\"\n",
    "\n",
    "    response = requests.get(url)\n",
    "    data = pd.read_csv(url)\n",
    "\n",
    "    # Nettoyer les données\n",
    "    data = clean_data(data)\n",
    "\n",
    "    # Stocker les données dans la base de données SQL\n",
    "    data.to_sql(name='logs_vols', con=engine, if_exists='append', index=False)\n",
    "    print(f\"Données de {date} ajoutées à la base de données.\")\n",
    "\n",
    "# Appeler la fonction pour initialiser la base de données avec le fichier d'origine si nécessaire\n",
    "initialize_database(engine)\n",
    "\n",
    "# Appeler la fonction pour récupérer et stocker les logs de vols\n",
    "recup_log_vols(date_defini, engine)"
   ]
  }
 ],
 "metadata": {
  "kernelspec": {
   "display_name": "Python 3",
   "language": "python",
   "name": "python3"
  },
  "language_info": {
   "codemirror_mode": {
    "name": "ipython",
    "version": 3
   },
   "file_extension": ".py",
   "mimetype": "text/x-python",
   "name": "python",
   "nbconvert_exporter": "python",
   "pygments_lexer": "ipython3",
   "version": "3.12.3"
  }
 },
 "nbformat": 4,
 "nbformat_minor": 2
}
