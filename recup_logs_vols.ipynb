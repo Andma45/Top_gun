{
 "cells": [
  {
   "cell_type": "code",
   "execution_count": 64,
   "metadata": {},
   "outputs": [],
   "source": [
    "import pandas as pd\n",
    "import requests\n",
    "from datetime import datetime\n",
    "from sqlalchemy import create_engine, inspect\n",
    "import io\n",
    "import json\n",
    "import os\n",
    "import re\n"
   ]
  },
  {
   "cell_type": "code",
   "execution_count": 65,
   "metadata": {},
   "outputs": [],
   "source": [
    "# Définir le chemin du dossier contenant les données\n",
    "data_bdd = os.path.join('bdd_sql')\n",
    "data_folder = os.path.join('Datasets',\"df_logs_vols\")\n",
    "\n",
    "# Chemin vers les fichiers db\n",
    "db_path = os.path.join(data_bdd,'top_gun_data_1.db')\n",
    "logs_vols_file = os.path.join(data_folder, 'logs_vols_2024-06-02.csv')\n"
   ]
  },
  {
   "cell_type": "code",
   "execution_count": 66,
   "metadata": {},
   "outputs": [
    {
     "data": {
      "text/html": [
       "<div>\n",
       "<style scoped>\n",
       "    .dataframe tbody tr th:only-of-type {\n",
       "        vertical-align: middle;\n",
       "    }\n",
       "\n",
       "    .dataframe tbody tr th {\n",
       "        vertical-align: top;\n",
       "    }\n",
       "\n",
       "    .dataframe thead th {\n",
       "        text-align: right;\n",
       "    }\n",
       "</style>\n",
       "<table border=\"1\" class=\"dataframe\">\n",
       "  <thead>\n",
       "    <tr style=\"text-align: right;\">\n",
       "      <th></th>\n",
       "      <th>ref_vol</th>\n",
       "      <th>aero_linked</th>\n",
       "      <th>jour_vol</th>\n",
       "      <th>time_en_air</th>\n",
       "      <th>sensor_data</th>\n",
       "      <th>etat_voyant</th>\n",
       "    </tr>\n",
       "  </thead>\n",
       "  <tbody>\n",
       "    <tr>\n",
       "      <th>0</th>\n",
       "      <td>V05622564</td>\n",
       "      <td>A320_2562</td>\n",
       "      <td>2024-06-14</td>\n",
       "      <td>7.0</td>\n",
       "      <td>{'temp': '15.0°C', 'pressure': '933.6 hPa', 'v...</td>\n",
       "      <td>0</td>\n",
       "    </tr>\n",
       "    <tr>\n",
       "      <th>1</th>\n",
       "      <td>V01097723</td>\n",
       "      <td>A380_2017</td>\n",
       "      <td>2024-06-14</td>\n",
       "      <td>9.7</td>\n",
       "      <td>{'temp': '2.8°C', 'pressure': '975.9 hPa', 'vi...</td>\n",
       "      <td>0</td>\n",
       "    </tr>\n",
       "    <tr>\n",
       "      <th>2</th>\n",
       "      <td>V09506682</td>\n",
       "      <td>A340_2827</td>\n",
       "      <td>2024-06-14</td>\n",
       "      <td>7.5</td>\n",
       "      <td>{'temp': '22.9°C', 'pressure': '881.6 hPa', 'v...</td>\n",
       "      <td>1</td>\n",
       "    </tr>\n",
       "    <tr>\n",
       "      <th>3</th>\n",
       "      <td>V06328529</td>\n",
       "      <td>A321_3033</td>\n",
       "      <td>2024-06-14</td>\n",
       "      <td>2.3</td>\n",
       "      <td>{'temp': '-6.2°C', 'pressure': '988.7 hPa', 'v...</td>\n",
       "      <td>0</td>\n",
       "    </tr>\n",
       "    <tr>\n",
       "      <th>4</th>\n",
       "      <td>V01007218</td>\n",
       "      <td>CRJ900_3749</td>\n",
       "      <td>2024-06-14</td>\n",
       "      <td>8.4</td>\n",
       "      <td>{'temp': '2.7°C', 'pressure': '936.7 hPa', 'vi...</td>\n",
       "      <td>0</td>\n",
       "    </tr>\n",
       "    <tr>\n",
       "      <th>5</th>\n",
       "      <td>V01180000</td>\n",
       "      <td>E170_6420</td>\n",
       "      <td>2024-06-14</td>\n",
       "      <td>8.1</td>\n",
       "      <td>{'temp': '17.3°C', 'pressure': '877.3 hPa', 'v...</td>\n",
       "      <td>0</td>\n",
       "    </tr>\n",
       "    <tr>\n",
       "      <th>6</th>\n",
       "      <td>V06340711</td>\n",
       "      <td>A321_5105</td>\n",
       "      <td>2024-06-14</td>\n",
       "      <td>3.3</td>\n",
       "      <td>{'temp': '-12.4°C', 'pressure': '925.8 hPa', '...</td>\n",
       "      <td>1</td>\n",
       "    </tr>\n",
       "    <tr>\n",
       "      <th>7</th>\n",
       "      <td>V06601310</td>\n",
       "      <td>B767_0906</td>\n",
       "      <td>2024-06-14</td>\n",
       "      <td>4.3</td>\n",
       "      <td>{'temp': '22.5°C', 'pressure': '1007.8 hPa', '...</td>\n",
       "      <td>1</td>\n",
       "    </tr>\n",
       "    <tr>\n",
       "      <th>8</th>\n",
       "      <td>V04280543</td>\n",
       "      <td>B767_2803</td>\n",
       "      <td>2024-06-14</td>\n",
       "      <td>7.9</td>\n",
       "      <td>{'temp': '-9.6°C', 'pressure': '961.8 hPa', 'v...</td>\n",
       "      <td>0</td>\n",
       "    </tr>\n",
       "    <tr>\n",
       "      <th>9</th>\n",
       "      <td>V08270143</td>\n",
       "      <td>E170_6913</td>\n",
       "      <td>2024-06-14</td>\n",
       "      <td>4.4</td>\n",
       "      <td>{'temp': '-1.5°C', 'pressure': '952.5 hPa', 'v...</td>\n",
       "      <td>0</td>\n",
       "    </tr>\n",
       "  </tbody>\n",
       "</table>\n",
       "</div>"
      ],
      "text/plain": [
       "     ref_vol  aero_linked    jour_vol  time_en_air  \\\n",
       "0  V05622564    A320_2562  2024-06-14          7.0   \n",
       "1  V01097723    A380_2017  2024-06-14          9.7   \n",
       "2  V09506682    A340_2827  2024-06-14          7.5   \n",
       "3  V06328529    A321_3033  2024-06-14          2.3   \n",
       "4  V01007218  CRJ900_3749  2024-06-14          8.4   \n",
       "5  V01180000    E170_6420  2024-06-14          8.1   \n",
       "6  V06340711    A321_5105  2024-06-14          3.3   \n",
       "7  V06601310    B767_0906  2024-06-14          4.3   \n",
       "8  V04280543    B767_2803  2024-06-14          7.9   \n",
       "9  V08270143    E170_6913  2024-06-14          4.4   \n",
       "\n",
       "                                         sensor_data  etat_voyant  \n",
       "0  {'temp': '15.0°C', 'pressure': '933.6 hPa', 'v...            0  \n",
       "1  {'temp': '2.8°C', 'pressure': '975.9 hPa', 'vi...            0  \n",
       "2  {'temp': '22.9°C', 'pressure': '881.6 hPa', 'v...            1  \n",
       "3  {'temp': '-6.2°C', 'pressure': '988.7 hPa', 'v...            0  \n",
       "4  {'temp': '2.7°C', 'pressure': '936.7 hPa', 'vi...            0  \n",
       "5  {'temp': '17.3°C', 'pressure': '877.3 hPa', 'v...            0  \n",
       "6  {'temp': '-12.4°C', 'pressure': '925.8 hPa', '...            1  \n",
       "7  {'temp': '22.5°C', 'pressure': '1007.8 hPa', '...            1  \n",
       "8  {'temp': '-9.6°C', 'pressure': '961.8 hPa', 'v...            0  \n",
       "9  {'temp': '-1.5°C', 'pressure': '952.5 hPa', 'v...            0  "
      ]
     },
     "execution_count": 66,
     "metadata": {},
     "output_type": "execute_result"
    }
   ],
   "source": [
    "logs_vols = pd.read_csv(r'http://sc-e.fr/docs/logs_vols_2024-06-14.csv')\n",
    "logs_vols.head(10)"
   ]
  },
  {
   "cell_type": "code",
   "execution_count": 67,
   "metadata": {},
   "outputs": [
    {
     "data": {
      "text/plain": [
       "(56, 6)"
      ]
     },
     "execution_count": 67,
     "metadata": {},
     "output_type": "execute_result"
    }
   ],
   "source": [
    "logs_vols.shape"
   ]
  },
  {
   "cell_type": "code",
   "execution_count": 68,
   "metadata": {},
   "outputs": [
    {
     "data": {
      "text/html": [
       "<div>\n",
       "<style scoped>\n",
       "    .dataframe tbody tr th:only-of-type {\n",
       "        vertical-align: middle;\n",
       "    }\n",
       "\n",
       "    .dataframe tbody tr th {\n",
       "        vertical-align: top;\n",
       "    }\n",
       "\n",
       "    .dataframe thead th {\n",
       "        text-align: right;\n",
       "    }\n",
       "</style>\n",
       "<table border=\"1\" class=\"dataframe\">\n",
       "  <thead>\n",
       "    <tr style=\"text-align: right;\">\n",
       "      <th></th>\n",
       "      <th>ref_vol</th>\n",
       "      <th>aero_linked</th>\n",
       "      <th>jour_vol</th>\n",
       "      <th>time_en_air</th>\n",
       "      <th>sensor_data</th>\n",
       "      <th>etat_voyant</th>\n",
       "    </tr>\n",
       "  </thead>\n",
       "  <tbody>\n",
       "  </tbody>\n",
       "</table>\n",
       "</div>"
      ],
      "text/plain": [
       "Empty DataFrame\n",
       "Columns: [ref_vol, aero_linked, jour_vol, time_en_air, sensor_data, etat_voyant]\n",
       "Index: []"
      ]
     },
     "execution_count": 68,
     "metadata": {},
     "output_type": "execute_result"
    }
   ],
   "source": [
    "aero_e170_5551 = logs_vols[logs_vols['aero_linked'] == 'E170_5551']\n",
    "aero_e170_5551"
   ]
  },
  {
   "cell_type": "code",
   "execution_count": 69,
   "metadata": {},
   "outputs": [],
   "source": [
    "# date du jour\n",
    "date_today = datetime.today().strftime('%Y-%m-%d')"
   ]
  },
  {
   "cell_type": "code",
   "execution_count": 70,
   "metadata": {},
   "outputs": [],
   "source": [
    "# Configurer la connexion à la base de données\n",
    "engine = create_engine(f'sqlite:///{db_path}')\n",
    "\n",
    "date_defini = '2024-06-24'"
   ]
  },
  {
   "cell_type": "code",
   "execution_count": 71,
   "metadata": {},
   "outputs": [],
   "source": [
    "# Fonction pour nettoyer les données\n",
    "def clean_data(df):\n",
    "    # Fonction pour corriger le format JSON\n",
    "    def fix_json_format(x):\n",
    "        return x.replace(\"'\", '\"')\n",
    "    \n",
    "    # Transformer la colonne 'sensor_data' de JSON en plusieurs colonnes\n",
    "    df['sensor_data'] = df['sensor_data'].apply(lambda x: json.loads(fix_json_format(x)))\n",
    "    sensor_data_df = pd.json_normalize(df['sensor_data'])\n",
    "    df = pd.concat([df.drop(columns=['sensor_data']), sensor_data_df], axis=1)\n",
    "    \n",
    "    # Transformer la colonne 'jour_vol' au format date\n",
    "    df['jour_vol'] = pd.to_datetime(df['jour_vol'], format='%Y-%m-%d', errors='coerce').dt.date\n",
    "    \n",
    "    # Nettoyer les colonnes 'temp', 'pressure', et 'vibrations'\n",
    "    df['temp en °C'] = df['temp'].replace('°C', '', regex=True).astype(float)\n",
    "    df['pressure en hPa'] = df['pressure'].replace('hPa', '', regex=True).astype(float)\n",
    "    df['vibrations en m/s²'] = df['vibrations'].replace('m/s²', '', regex=True).astype(float).round(3)\n",
    "    df.drop(columns=['temp', 'pressure', 'vibrations'], inplace=True)\n",
    "    \n",
    "    # Exclure les lignes où 'aero_linked' est 'E170_5551'\n",
    "    df = df[df['aero_linked'] != 'E170_5551']\n",
    "\n",
    "    return df"
   ]
  },
  {
   "cell_type": "code",
   "execution_count": 72,
   "metadata": {},
   "outputs": [
    {
     "name": "stdout",
     "output_type": "stream",
     "text": [
      "La table 'logs_vols' existe déjà, aucune initialisation nécessaire.\n",
      "Données de 2024-06-24 ajoutées à la base de données.\n"
     ]
    }
   ],
   "source": [
    "# Vérifier si une table existe déjà dans la base de données\n",
    "def table_exists(engine, table_name):\n",
    "    inspector = inspect(engine)\n",
    "    return inspector.has_table(table_name)\n",
    "\n",
    "# Fonction pour initialiser la base de données avec le fichier d'origine si la table n'existe pas\n",
    "def initialize_database(engine):\n",
    "    if not table_exists(engine, 'logs_vols'):\n",
    "        logs_vols_file = os.path.join(data_folder, 'logs_vols_2024-06-02.csv')\n",
    "        logs_vols_data = pd.read_csv(logs_vols_file)\n",
    "        \n",
    "        # Nettoyer les données\n",
    "        cleaned_data = clean_data(logs_vols_data)\n",
    "        \n",
    "        # Stocker les données dans la base de données SQL\n",
    "        cleaned_data.to_sql(name='logs_vols', con=engine, if_exists='replace', index=False)\n",
    "        print(\"Base de données initialisée avec le fichier d'origine.\")\n",
    "    else:\n",
    "        print(\"La table 'logs_vols' existe déjà, aucune initialisation nécessaire.\")\n",
    "\n",
    "# Fonction pour récupérer les données logs_vols et les stocker dans la base de données SQL\n",
    "def recup_log_vols(date, engine):\n",
    "    url = f\"http://sc-e.fr/docs/logs_vols_{date}.csv\"\n",
    "\n",
    "    response = requests.get(url)\n",
    "    data = pd.read_csv(url)\n",
    "\n",
    "    # Nettoyer les données\n",
    "    data = clean_data(data)\n",
    "\n",
    "    # Stocker les données dans la base de données SQL\n",
    "    data.to_sql(name='logs_vols', con=engine, if_exists='append', index=False)\n",
    "    print(f\"Données de {date} ajoutées à la base de données.\")\n",
    "\n",
    "# Appeler la fonction pour initialiser la base de données avec le fichier d'origine si nécessaire\n",
    "initialize_database(engine)\n",
    "\n",
    "# Appeler la fonction pour récupérer et stocker les logs de vols\n",
    "recup_log_vols(date_defini, engine)"
   ]
  }
 ],
 "metadata": {
  "kernelspec": {
   "display_name": "Python 3",
   "language": "python",
   "name": "python3"
  },
  "language_info": {
   "codemirror_mode": {
    "name": "ipython",
    "version": 3
   },
   "file_extension": ".py",
   "mimetype": "text/x-python",
   "name": "python",
   "nbconvert_exporter": "python",
   "pygments_lexer": "ipython3",
   "version": "3.12.2"
  }
 },
 "nbformat": 4,
 "nbformat_minor": 2
}
