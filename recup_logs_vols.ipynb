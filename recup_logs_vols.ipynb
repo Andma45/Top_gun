{
 "cells": [
  {
   "cell_type": "code",
   "execution_count": 6,
   "metadata": {},
   "outputs": [],
   "source": [
    "import pandas as pd\n",
    "import requests\n",
    "from datetime import datetime\n",
    "from sqlalchemy import create_engine\n",
    "import io"
   ]
  },
  {
   "cell_type": "code",
   "execution_count": 14,
   "metadata": {},
   "outputs": [
    {
     "data": {
      "text/html": [
       "<div>\n",
       "<style scoped>\n",
       "    .dataframe tbody tr th:only-of-type {\n",
       "        vertical-align: middle;\n",
       "    }\n",
       "\n",
       "    .dataframe tbody tr th {\n",
       "        vertical-align: top;\n",
       "    }\n",
       "\n",
       "    .dataframe thead th {\n",
       "        text-align: right;\n",
       "    }\n",
       "</style>\n",
       "<table border=\"1\" class=\"dataframe\">\n",
       "  <thead>\n",
       "    <tr style=\"text-align: right;\">\n",
       "      <th></th>\n",
       "      <th>ref_vol</th>\n",
       "      <th>aero_linked</th>\n",
       "      <th>jour_vol</th>\n",
       "      <th>time_en_air</th>\n",
       "      <th>sensor_data</th>\n",
       "      <th>etat_voyant</th>\n",
       "    </tr>\n",
       "  </thead>\n",
       "  <tbody>\n",
       "    <tr>\n",
       "      <th>0</th>\n",
       "      <td>V06683852</td>\n",
       "      <td>B737_0940</td>\n",
       "      <td>2024-06-05</td>\n",
       "      <td>0.6</td>\n",
       "      <td>{'temp': '17.8°C', 'pressure': '904.2 hPa', 'v...</td>\n",
       "      <td>0</td>\n",
       "    </tr>\n",
       "    <tr>\n",
       "      <th>1</th>\n",
       "      <td>V03551025</td>\n",
       "      <td>E175_6879</td>\n",
       "      <td>2024-06-05</td>\n",
       "      <td>5.2</td>\n",
       "      <td>{'temp': '-1.3°C', 'pressure': '1029.6 hPa', '...</td>\n",
       "      <td>0</td>\n",
       "    </tr>\n",
       "    <tr>\n",
       "      <th>2</th>\n",
       "      <td>V04512442</td>\n",
       "      <td>A320_2562</td>\n",
       "      <td>2024-06-05</td>\n",
       "      <td>7.9</td>\n",
       "      <td>{'temp': '16.4°C', 'pressure': '1071.7 hPa', '...</td>\n",
       "      <td>0</td>\n",
       "    </tr>\n",
       "    <tr>\n",
       "      <th>3</th>\n",
       "      <td>V06831692</td>\n",
       "      <td>A320_1884</td>\n",
       "      <td>2024-06-05</td>\n",
       "      <td>7.4</td>\n",
       "      <td>{'temp': '-24.3°C', 'pressure': '905.9 hPa', '...</td>\n",
       "      <td>1</td>\n",
       "    </tr>\n",
       "    <tr>\n",
       "      <th>4</th>\n",
       "      <td>V05264659</td>\n",
       "      <td>A321_3033</td>\n",
       "      <td>2024-06-05</td>\n",
       "      <td>3.6</td>\n",
       "      <td>{'temp': '5.3°C', 'pressure': '1053.8 hPa', 'v...</td>\n",
       "      <td>0</td>\n",
       "    </tr>\n",
       "    <tr>\n",
       "      <th>5</th>\n",
       "      <td>V01961332</td>\n",
       "      <td>A340_3887</td>\n",
       "      <td>2024-06-05</td>\n",
       "      <td>6.1</td>\n",
       "      <td>{'temp': '-13.5°C', 'pressure': '948.3 hPa', '...</td>\n",
       "      <td>1</td>\n",
       "    </tr>\n",
       "    <tr>\n",
       "      <th>6</th>\n",
       "      <td>V03023578</td>\n",
       "      <td>A380_3155</td>\n",
       "      <td>2024-06-05</td>\n",
       "      <td>6.0</td>\n",
       "      <td>{'temp': '-4.0°C', 'pressure': '979.2 hPa', 'v...</td>\n",
       "      <td>0</td>\n",
       "    </tr>\n",
       "    <tr>\n",
       "      <th>7</th>\n",
       "      <td>V09057132</td>\n",
       "      <td>CRJ700_2988</td>\n",
       "      <td>2024-06-05</td>\n",
       "      <td>2.8</td>\n",
       "      <td>{'temp': '-3.8°C', 'pressure': '999.9 hPa', 'v...</td>\n",
       "      <td>0</td>\n",
       "    </tr>\n",
       "    <tr>\n",
       "      <th>8</th>\n",
       "      <td>V00217717</td>\n",
       "      <td>A330_3519</td>\n",
       "      <td>2024-06-05</td>\n",
       "      <td>3.2</td>\n",
       "      <td>{'temp': '-6.4°C', 'pressure': '955.3 hPa', 'v...</td>\n",
       "      <td>0</td>\n",
       "    </tr>\n",
       "    <tr>\n",
       "      <th>9</th>\n",
       "      <td>V07533504</td>\n",
       "      <td>B747_4659</td>\n",
       "      <td>2024-06-05</td>\n",
       "      <td>9.0</td>\n",
       "      <td>{'temp': '0.8°C', 'pressure': '934.4 hPa', 'vi...</td>\n",
       "      <td>0</td>\n",
       "    </tr>\n",
       "  </tbody>\n",
       "</table>\n",
       "</div>"
      ],
      "text/plain": [
       "     ref_vol  aero_linked    jour_vol  time_en_air  \\\n",
       "0  V06683852    B737_0940  2024-06-05          0.6   \n",
       "1  V03551025    E175_6879  2024-06-05          5.2   \n",
       "2  V04512442    A320_2562  2024-06-05          7.9   \n",
       "3  V06831692    A320_1884  2024-06-05          7.4   \n",
       "4  V05264659    A321_3033  2024-06-05          3.6   \n",
       "5  V01961332    A340_3887  2024-06-05          6.1   \n",
       "6  V03023578    A380_3155  2024-06-05          6.0   \n",
       "7  V09057132  CRJ700_2988  2024-06-05          2.8   \n",
       "8  V00217717    A330_3519  2024-06-05          3.2   \n",
       "9  V07533504    B747_4659  2024-06-05          9.0   \n",
       "\n",
       "                                         sensor_data  etat_voyant  \n",
       "0  {'temp': '17.8°C', 'pressure': '904.2 hPa', 'v...            0  \n",
       "1  {'temp': '-1.3°C', 'pressure': '1029.6 hPa', '...            0  \n",
       "2  {'temp': '16.4°C', 'pressure': '1071.7 hPa', '...            0  \n",
       "3  {'temp': '-24.3°C', 'pressure': '905.9 hPa', '...            1  \n",
       "4  {'temp': '5.3°C', 'pressure': '1053.8 hPa', 'v...            0  \n",
       "5  {'temp': '-13.5°C', 'pressure': '948.3 hPa', '...            1  \n",
       "6  {'temp': '-4.0°C', 'pressure': '979.2 hPa', 'v...            0  \n",
       "7  {'temp': '-3.8°C', 'pressure': '999.9 hPa', 'v...            0  \n",
       "8  {'temp': '-6.4°C', 'pressure': '955.3 hPa', 'v...            0  \n",
       "9  {'temp': '0.8°C', 'pressure': '934.4 hPa', 'vi...            0  "
      ]
     },
     "execution_count": 14,
     "metadata": {},
     "output_type": "execute_result"
    }
   ],
   "source": [
    "logs_vols = pd.read_csv(r'http://sc-e.fr/docs/logs_vols_2024-06-05.csv')\n",
    "logs_vols.head(10)"
   ]
  },
  {
   "cell_type": "code",
   "execution_count": 15,
   "metadata": {},
   "outputs": [
    {
     "data": {
      "text/plain": [
       "(139, 6)"
      ]
     },
     "execution_count": 15,
     "metadata": {},
     "output_type": "execute_result"
    }
   ],
   "source": [
    "logs_vols.shape"
   ]
  },
  {
   "cell_type": "code",
   "execution_count": 11,
   "metadata": {},
   "outputs": [
    {
     "data": {
      "text/html": [
       "<div>\n",
       "<style scoped>\n",
       "    .dataframe tbody tr th:only-of-type {\n",
       "        vertical-align: middle;\n",
       "    }\n",
       "\n",
       "    .dataframe tbody tr th {\n",
       "        vertical-align: top;\n",
       "    }\n",
       "\n",
       "    .dataframe thead th {\n",
       "        text-align: right;\n",
       "    }\n",
       "</style>\n",
       "<table border=\"1\" class=\"dataframe\">\n",
       "  <thead>\n",
       "    <tr style=\"text-align: right;\">\n",
       "      <th></th>\n",
       "      <th>ref_vol</th>\n",
       "      <th>aero_linked</th>\n",
       "      <th>jour_vol</th>\n",
       "      <th>time_en_air</th>\n",
       "      <th>sensor_data</th>\n",
       "      <th>etat_voyant</th>\n",
       "    </tr>\n",
       "  </thead>\n",
       "  <tbody>\n",
       "  </tbody>\n",
       "</table>\n",
       "</div>"
      ],
      "text/plain": [
       "Empty DataFrame\n",
       "Columns: [ref_vol, aero_linked, jour_vol, time_en_air, sensor_data, etat_voyant]\n",
       "Index: []"
      ]
     },
     "execution_count": 11,
     "metadata": {},
     "output_type": "execute_result"
    }
   ],
   "source": [
    "aero_e170_5551 = logs_vols[logs_vols['aero_linked'] == 'E170_5551']\n",
    "aero_e170_5551"
   ]
  },
  {
   "cell_type": "code",
   "execution_count": 3,
   "metadata": {},
   "outputs": [],
   "source": [
    "# date du jour\n",
    "date_today = datetime.today().strftime('%Y-%m-%d')"
   ]
  },
  {
   "cell_type": "code",
   "execution_count": 4,
   "metadata": {},
   "outputs": [],
   "source": [
    "# Configurer la connexion à la base de données\n",
    "engine = create_engine('sqlite:///aviation_data.db')  "
   ]
  },
  {
   "cell_type": "code",
   "execution_count": 5,
   "metadata": {},
   "outputs": [],
   "source": [
    "# Fonction pour récupérer les données logs_vols et les stocker dans la base de données SQL\n",
    "def recup_log_vols(date, engine):\n",
    "    url = f\"http://sc-e.fr/docs/logs_vols_{date}.csv\"\n",
    "\n",
    "    response = requests.get(url)\n",
    "\n",
    "    data = pd.read_csv(url)\n",
    "\n",
    "    # Stocker les données dans la base de données SQL [name = nom de la table / con = connexion à db / if_exists = ajoute les données]\n",
    "    data.to_sql(name='logs_vols', con=engine, if_exists='append', index=False)\n",
    "\n",
    "recup_log_vols(date_today, engine)"
   ]
  }
 ],
 "metadata": {
  "kernelspec": {
   "display_name": "Python 3",
   "language": "python",
   "name": "python3"
  },
  "language_info": {
   "codemirror_mode": {
    "name": "ipython",
    "version": 3
   },
   "file_extension": ".py",
   "mimetype": "text/x-python",
   "name": "python",
   "nbconvert_exporter": "python",
   "pygments_lexer": "ipython3",
   "version": "3.12.3"
  }
 },
 "nbformat": 4,
 "nbformat_minor": 2
}
