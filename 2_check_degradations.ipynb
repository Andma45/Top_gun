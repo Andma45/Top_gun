{
 "cells": [
  {
   "cell_type": "code",
   "execution_count": 1,
   "metadata": {},
   "outputs": [],
   "source": [
    "import pandas as pd"
   ]
  },
  {
   "cell_type": "code",
   "execution_count": 2,
   "metadata": {},
   "outputs": [],
   "source": [
    "df = pd.read_csv('/Users/um/Desktop/Wild Code School/Top_Gun/degradations_2024-06-02.csv')"
   ]
  },
  {
   "cell_type": "code",
   "execution_count": 6,
   "metadata": {},
   "outputs": [
    {
     "data": {
      "text/html": [
       "<div>\n",
       "<style scoped>\n",
       "    .dataframe tbody tr th:only-of-type {\n",
       "        vertical-align: middle;\n",
       "    }\n",
       "\n",
       "    .dataframe tbody tr th {\n",
       "        vertical-align: top;\n",
       "    }\n",
       "\n",
       "    .dataframe thead th {\n",
       "        text-align: right;\n",
       "    }\n",
       "</style>\n",
       "<table border=\"1\" class=\"dataframe\">\n",
       "  <thead>\n",
       "    <tr style=\"text-align: right;\">\n",
       "      <th></th>\n",
       "      <th>ref_deg</th>\n",
       "      <th>linked_aero</th>\n",
       "      <th>compo_concerned</th>\n",
       "      <th>usure_nouvelle</th>\n",
       "      <th>measure_day</th>\n",
       "      <th>need_replacement</th>\n",
       "    </tr>\n",
       "  </thead>\n",
       "  <tbody>\n",
       "    <tr>\n",
       "      <th>1800</th>\n",
       "      <td>D001765</td>\n",
       "      <td>E170_5551</td>\n",
       "      <td>REAE170-E170_5551-0</td>\n",
       "      <td>33.472770</td>\n",
       "      <td>2024-06-01</td>\n",
       "      <td>False</td>\n",
       "    </tr>\n",
       "    <tr>\n",
       "      <th>1801</th>\n",
       "      <td>D007931</td>\n",
       "      <td>E170_5551</td>\n",
       "      <td>REAE170-E170_5551-1</td>\n",
       "      <td>41.964356</td>\n",
       "      <td>2024-06-01</td>\n",
       "      <td>False</td>\n",
       "    </tr>\n",
       "    <tr>\n",
       "      <th>1802</th>\n",
       "      <td>D000298</td>\n",
       "      <td>E170_5551</td>\n",
       "      <td>SYSE170-E170_5551-2</td>\n",
       "      <td>2.467346</td>\n",
       "      <td>2024-06-01</td>\n",
       "      <td>False</td>\n",
       "    </tr>\n",
       "    <tr>\n",
       "      <th>1803</th>\n",
       "      <td>D007888</td>\n",
       "      <td>E170_5551</td>\n",
       "      <td>ORDE170-E170_5551-3</td>\n",
       "      <td>35.576746</td>\n",
       "      <td>2024-06-01</td>\n",
       "      <td>False</td>\n",
       "    </tr>\n",
       "    <tr>\n",
       "      <th>1804</th>\n",
       "      <td>D002631</td>\n",
       "      <td>E170_5551</td>\n",
       "      <td>AUTE170-E170_5551-4</td>\n",
       "      <td>24.763782</td>\n",
       "      <td>2024-06-01</td>\n",
       "      <td>False</td>\n",
       "    </tr>\n",
       "    <tr>\n",
       "      <th>...</th>\n",
       "      <td>...</td>\n",
       "      <td>...</td>\n",
       "      <td>...</td>\n",
       "      <td>...</td>\n",
       "      <td>...</td>\n",
       "      <td>...</td>\n",
       "    </tr>\n",
       "    <tr>\n",
       "      <th>10480</th>\n",
       "      <td>D001482</td>\n",
       "      <td>E170_5551</td>\n",
       "      <td>SYSE170-E170_5551-40</td>\n",
       "      <td>43.960000</td>\n",
       "      <td>2023-08-23 00:00:00</td>\n",
       "      <td>False</td>\n",
       "    </tr>\n",
       "    <tr>\n",
       "      <th>10481</th>\n",
       "      <td>D006878</td>\n",
       "      <td>E170_5551</td>\n",
       "      <td>PORE170-E170_5551-41</td>\n",
       "      <td>9.300000</td>\n",
       "      <td>2023-08-23 00:00:00</td>\n",
       "      <td>False</td>\n",
       "    </tr>\n",
       "    <tr>\n",
       "      <th>10482</th>\n",
       "      <td>D000419</td>\n",
       "      <td>E170_5551</td>\n",
       "      <td>HUBE170-E170_5551-42</td>\n",
       "      <td>40.040000</td>\n",
       "      <td>2023-08-23 00:00:00</td>\n",
       "      <td>False</td>\n",
       "    </tr>\n",
       "    <tr>\n",
       "      <th>10483</th>\n",
       "      <td>D009981</td>\n",
       "      <td>E170_5551</td>\n",
       "      <td>ECLE170-E170_5551-43</td>\n",
       "      <td>56.670000</td>\n",
       "      <td>2023-08-23 00:00:00</td>\n",
       "      <td>False</td>\n",
       "    </tr>\n",
       "    <tr>\n",
       "      <th>10484</th>\n",
       "      <td>D005733</td>\n",
       "      <td>E170_5551</td>\n",
       "      <td>SYSE170-E170_5551-44</td>\n",
       "      <td>40.560000</td>\n",
       "      <td>2023-08-23 00:00:00</td>\n",
       "      <td>False</td>\n",
       "    </tr>\n",
       "  </tbody>\n",
       "</table>\n",
       "<p>180 rows × 6 columns</p>\n",
       "</div>"
      ],
      "text/plain": [
       "       ref_deg linked_aero       compo_concerned  usure_nouvelle  \\\n",
       "1800   D001765   E170_5551   REAE170-E170_5551-0       33.472770   \n",
       "1801   D007931   E170_5551   REAE170-E170_5551-1       41.964356   \n",
       "1802   D000298   E170_5551   SYSE170-E170_5551-2        2.467346   \n",
       "1803   D007888   E170_5551   ORDE170-E170_5551-3       35.576746   \n",
       "1804   D002631   E170_5551   AUTE170-E170_5551-4       24.763782   \n",
       "...        ...         ...                   ...             ...   \n",
       "10480  D001482   E170_5551  SYSE170-E170_5551-40       43.960000   \n",
       "10481  D006878   E170_5551  PORE170-E170_5551-41        9.300000   \n",
       "10482  D000419   E170_5551  HUBE170-E170_5551-42       40.040000   \n",
       "10483  D009981   E170_5551  ECLE170-E170_5551-43       56.670000   \n",
       "10484  D005733   E170_5551  SYSE170-E170_5551-44       40.560000   \n",
       "\n",
       "               measure_day  need_replacement  \n",
       "1800            2024-06-01             False  \n",
       "1801            2024-06-01             False  \n",
       "1802            2024-06-01             False  \n",
       "1803            2024-06-01             False  \n",
       "1804            2024-06-01             False  \n",
       "...                    ...               ...  \n",
       "10480  2023-08-23 00:00:00             False  \n",
       "10481  2023-08-23 00:00:00             False  \n",
       "10482  2023-08-23 00:00:00             False  \n",
       "10483  2023-08-23 00:00:00             False  \n",
       "10484  2023-08-23 00:00:00             False  \n",
       "\n",
       "[180 rows x 6 columns]"
      ]
     },
     "execution_count": 6,
     "metadata": {},
     "output_type": "execute_result"
    }
   ],
   "source": [
    "df[df['linked_aero'] == 'E170_5551']"
   ]
  },
  {
   "cell_type": "code",
   "execution_count": 5,
   "metadata": {},
   "outputs": [
    {
     "data": {
      "text/plain": [
       "ref_deg              6554\n",
       "linked_aero           231\n",
       "compo_concerned     10395\n",
       "usure_nouvelle      10432\n",
       "measure_day             9\n",
       "need_replacement        1\n",
       "dtype: int64"
      ]
     },
     "execution_count": 5,
     "metadata": {},
     "output_type": "execute_result"
    }
   ],
   "source": [
    "df.nunique()"
   ]
  },
  {
   "cell_type": "code",
   "execution_count": 7,
   "metadata": {},
   "outputs": [
    {
     "name": "stdout",
     "output_type": "stream",
     "text": [
      "<class 'pandas.core.frame.DataFrame'>\n",
      "RangeIndex: 10530 entries, 0 to 10529\n",
      "Data columns (total 6 columns):\n",
      " #   Column            Non-Null Count  Dtype  \n",
      "---  ------            --------------  -----  \n",
      " 0   ref_deg           10530 non-null  object \n",
      " 1   linked_aero       10530 non-null  object \n",
      " 2   compo_concerned   10530 non-null  object \n",
      " 3   usure_nouvelle    10530 non-null  float64\n",
      " 4   measure_day       10530 non-null  object \n",
      " 5   need_replacement  10530 non-null  bool   \n",
      "dtypes: bool(1), float64(1), object(4)\n",
      "memory usage: 421.7+ KB\n"
     ]
    }
   ],
   "source": [
    "df.info()"
   ]
  },
  {
   "cell_type": "code",
   "execution_count": null,
   "metadata": {},
   "outputs": [],
   "source": []
  }
 ],
 "metadata": {
  "kernelspec": {
   "display_name": "base",
   "language": "python",
   "name": "python3"
  },
  "language_info": {
   "codemirror_mode": {
    "name": "ipython",
    "version": 3
   },
   "file_extension": ".py",
   "mimetype": "text/x-python",
   "name": "python",
   "nbconvert_exporter": "python",
   "pygments_lexer": "ipython3",
   "version": "3.11.5"
  }
 },
 "nbformat": 4,
 "nbformat_minor": 2
}
