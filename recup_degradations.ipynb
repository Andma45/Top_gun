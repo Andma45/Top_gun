{
 "cells": [
  {
   "cell_type": "code",
   "execution_count": 1,
   "metadata": {},
   "outputs": [],
   "source": [
    "import pandas as pd\n",
    "import requests\n",
    "from datetime import datetime\n",
    "from sqlalchemy import create_engine\n",
    "import re"
   ]
  },
  {
   "cell_type": "code",
   "execution_count": 12,
   "metadata": {},
   "outputs": [
    {
     "data": {
      "text/html": [
       "<div>\n",
       "<style scoped>\n",
       "    .dataframe tbody tr th:only-of-type {\n",
       "        vertical-align: middle;\n",
       "    }\n",
       "\n",
       "    .dataframe tbody tr th {\n",
       "        vertical-align: top;\n",
       "    }\n",
       "\n",
       "    .dataframe thead th {\n",
       "        text-align: right;\n",
       "    }\n",
       "</style>\n",
       "<table border=\"1\" class=\"dataframe\">\n",
       "  <thead>\n",
       "    <tr style=\"text-align: right;\">\n",
       "      <th></th>\n",
       "      <th>ref_deg</th>\n",
       "      <th>linked_aero</th>\n",
       "      <th>compo_concerned</th>\n",
       "      <th>usure_nouvelle</th>\n",
       "      <th>measure_day</th>\n",
       "      <th>need_replacement</th>\n",
       "    </tr>\n",
       "  </thead>\n",
       "  <tbody>\n",
       "    <tr>\n",
       "      <th>0</th>\n",
       "      <td>D003661</td>\n",
       "      <td>E170_6353</td>\n",
       "      <td>REAE170-E170_6353-0</td>\n",
       "      <td>54.443290</td>\n",
       "      <td>2024-06-06</td>\n",
       "      <td>False</td>\n",
       "    </tr>\n",
       "    <tr>\n",
       "      <th>1</th>\n",
       "      <td>D009402</td>\n",
       "      <td>E170_6353</td>\n",
       "      <td>REAE170-E170_6353-1</td>\n",
       "      <td>51.297412</td>\n",
       "      <td>2024-06-06</td>\n",
       "      <td>False</td>\n",
       "    </tr>\n",
       "    <tr>\n",
       "      <th>2</th>\n",
       "      <td>D000812</td>\n",
       "      <td>E170_6353</td>\n",
       "      <td>SYSE170-E170_6353-2</td>\n",
       "      <td>17.647642</td>\n",
       "      <td>2024-06-06</td>\n",
       "      <td>False</td>\n",
       "    </tr>\n",
       "    <tr>\n",
       "      <th>3</th>\n",
       "      <td>D006665</td>\n",
       "      <td>E170_6353</td>\n",
       "      <td>ORDE170-E170_6353-3</td>\n",
       "      <td>7.561442</td>\n",
       "      <td>2024-06-06</td>\n",
       "      <td>False</td>\n",
       "    </tr>\n",
       "    <tr>\n",
       "      <th>4</th>\n",
       "      <td>D001163</td>\n",
       "      <td>E170_6353</td>\n",
       "      <td>AUTE170-E170_6353-4</td>\n",
       "      <td>43.325214</td>\n",
       "      <td>2024-06-06</td>\n",
       "      <td>False</td>\n",
       "    </tr>\n",
       "    <tr>\n",
       "      <th>...</th>\n",
       "      <td>...</td>\n",
       "      <td>...</td>\n",
       "      <td>...</td>\n",
       "      <td>...</td>\n",
       "      <td>...</td>\n",
       "      <td>...</td>\n",
       "    </tr>\n",
       "    <tr>\n",
       "      <th>10525</th>\n",
       "      <td>D006322</td>\n",
       "      <td>CRJ700_2988</td>\n",
       "      <td>SYSCRJ700-CRJ700_2988-40</td>\n",
       "      <td>53.688232</td>\n",
       "      <td>2024-06-05</td>\n",
       "      <td>False</td>\n",
       "    </tr>\n",
       "    <tr>\n",
       "      <th>10526</th>\n",
       "      <td>D005497</td>\n",
       "      <td>CRJ700_2988</td>\n",
       "      <td>PORCRJ700-CRJ700_2988-41</td>\n",
       "      <td>16.759548</td>\n",
       "      <td>2024-06-05</td>\n",
       "      <td>False</td>\n",
       "    </tr>\n",
       "    <tr>\n",
       "      <th>10527</th>\n",
       "      <td>D005625</td>\n",
       "      <td>CRJ700_2988</td>\n",
       "      <td>HUBCRJ700-CRJ700_2988-42</td>\n",
       "      <td>36.482392</td>\n",
       "      <td>2024-06-05</td>\n",
       "      <td>False</td>\n",
       "    </tr>\n",
       "    <tr>\n",
       "      <th>10528</th>\n",
       "      <td>D003657</td>\n",
       "      <td>CRJ700_2988</td>\n",
       "      <td>ECLCRJ700-CRJ700_2988-43</td>\n",
       "      <td>37.004796</td>\n",
       "      <td>2024-06-05</td>\n",
       "      <td>False</td>\n",
       "    </tr>\n",
       "    <tr>\n",
       "      <th>10529</th>\n",
       "      <td>D000550</td>\n",
       "      <td>CRJ700_2988</td>\n",
       "      <td>SYSCRJ700-CRJ700_2988-44</td>\n",
       "      <td>14.098544</td>\n",
       "      <td>2024-06-05</td>\n",
       "      <td>False</td>\n",
       "    </tr>\n",
       "  </tbody>\n",
       "</table>\n",
       "<p>10530 rows × 6 columns</p>\n",
       "</div>"
      ],
      "text/plain": [
       "       ref_deg  linked_aero           compo_concerned  usure_nouvelle  \\\n",
       "0      D003661    E170_6353       REAE170-E170_6353-0       54.443290   \n",
       "1      D009402    E170_6353       REAE170-E170_6353-1       51.297412   \n",
       "2      D000812    E170_6353       SYSE170-E170_6353-2       17.647642   \n",
       "3      D006665    E170_6353       ORDE170-E170_6353-3        7.561442   \n",
       "4      D001163    E170_6353       AUTE170-E170_6353-4       43.325214   \n",
       "...        ...          ...                       ...             ...   \n",
       "10525  D006322  CRJ700_2988  SYSCRJ700-CRJ700_2988-40       53.688232   \n",
       "10526  D005497  CRJ700_2988  PORCRJ700-CRJ700_2988-41       16.759548   \n",
       "10527  D005625  CRJ700_2988  HUBCRJ700-CRJ700_2988-42       36.482392   \n",
       "10528  D003657  CRJ700_2988  ECLCRJ700-CRJ700_2988-43       37.004796   \n",
       "10529  D000550  CRJ700_2988  SYSCRJ700-CRJ700_2988-44       14.098544   \n",
       "\n",
       "      measure_day  need_replacement  \n",
       "0      2024-06-06             False  \n",
       "1      2024-06-06             False  \n",
       "2      2024-06-06             False  \n",
       "3      2024-06-06             False  \n",
       "4      2024-06-06             False  \n",
       "...           ...               ...  \n",
       "10525  2024-06-05             False  \n",
       "10526  2024-06-05             False  \n",
       "10527  2024-06-05             False  \n",
       "10528  2024-06-05             False  \n",
       "10529  2024-06-05             False  \n",
       "\n",
       "[10530 rows x 6 columns]"
      ]
     },
     "execution_count": 12,
     "metadata": {},
     "output_type": "execute_result"
    }
   ],
   "source": [
    "df_degra = pd.read_csv(r'http://sc-e.fr/docs/degradations_2024-06-06.csv')\n",
    "df_degra"
   ]
  },
  {
   "cell_type": "code",
   "execution_count": 6,
   "metadata": {},
   "outputs": [],
   "source": [
    "# date du jour\n",
    "date_today = datetime.today().strftime('%Y-%m-%d')"
   ]
  },
  {
   "cell_type": "code",
   "execution_count": 7,
   "metadata": {},
   "outputs": [],
   "source": [
    "# Fonction pour supprimer l'heure, les minutes et les secondes représentant une date et une heure\n",
    "def supprimer_heure_minutes_secondes(chaine):                   \n",
    "    nouvelle_chaine = re.sub(r'\\s\\d{2}:\\d{2}:\\d{2}$', '', chaine)           \n",
    "    return nouvelle_chaine"
   ]
  },
  {
   "cell_type": "code",
   "execution_count": 8,
   "metadata": {},
   "outputs": [],
   "source": [
    "# Appliquer la fonction à la colonne 'last_maint'\n",
    "df_degra['measure_day'] = df_degra['measure_day'].astype(str).apply(supprimer_heure_minutes_secondes)"
   ]
  },
  {
   "cell_type": "code",
   "execution_count": 10,
   "metadata": {},
   "outputs": [],
   "source": [
    "# Mettre la colonne measure_day au format date\n",
    "df_degra['measure_day'] = pd.to_datetime(df_degra['measure_day'], format='%Y-%m-%d', errors='coerce')"
   ]
  },
  {
   "cell_type": "code",
   "execution_count": 13,
   "metadata": {},
   "outputs": [],
   "source": [
    "# Fonction pour ne mettre dans la base de données uniquement les measure_day du jour\n",
    "def measure_today(data, date):\n",
    "    filtered_data = data.query('measure_day == @date')\n",
    "    return filtered_data"
   ]
  },
  {
   "cell_type": "code",
   "execution_count": 14,
   "metadata": {},
   "outputs": [],
   "source": [
    "# Fonction pour récupérer les données degradations et les stocker dans la base de données SQL\n",
    "def degradations(date, engine):\n",
    "    url = f\"http://sc-e.fr/docs/degradations_{date}.csv\"\n",
    "\n",
    "    response = requests.get(url)\n",
    "\n",
    "    data = pd.read_csv(url)\n",
    "\n",
    "    # Filtrer les données pour ne conserver que celles de la date actuelle\n",
    "    filtered_data = measure_today(data, date)\n",
    "\n",
    "    # Stocker les données dans la base de données SQL [name = nom de la table / con = connexion à db / if_exists = ajoute les données]\n",
    "    filtered_data.to_sql(name='degradations', con=engine, if_exists='append', index=False)\n",
    "\n",
    "# Configurer la connexion à la base de données\n",
    "engine = create_engine('sqlite:///aviation_data2.db')\n",
    "\n",
    "degradations(date_today, engine)"
   ]
  },
  {
   "cell_type": "code",
   "execution_count": 11,
   "metadata": {},
   "outputs": [
    {
     "name": "stdout",
     "output_type": "stream",
     "text": [
      "<class 'pandas.core.frame.DataFrame'>\n",
      "RangeIndex: 10530 entries, 0 to 10529\n",
      "Data columns (total 6 columns):\n",
      " #   Column            Non-Null Count  Dtype         \n",
      "---  ------            --------------  -----         \n",
      " 0   ref_deg           10530 non-null  object        \n",
      " 1   linked_aero       10530 non-null  object        \n",
      " 2   compo_concerned   10530 non-null  object        \n",
      " 3   usure_nouvelle    10530 non-null  float64       \n",
      " 4   measure_day       10530 non-null  datetime64[ns]\n",
      " 5   need_replacement  10530 non-null  bool          \n",
      "dtypes: bool(1), datetime64[ns](1), float64(1), object(3)\n",
      "memory usage: 421.7+ KB\n"
     ]
    }
   ],
   "source": [
    "df_degra.info()"
   ]
  },
  {
   "cell_type": "code",
   "execution_count": 9,
   "metadata": {},
   "outputs": [
    {
     "data": {
      "text/plain": [
       "measure_day\n",
       "2024-06-05    6210\n",
       "2024-06-04    2340\n",
       "2024-06-01     720\n",
       "2024-06-02     540\n",
       "2024-06-03     450\n",
       "2023-08-23     135\n",
       "2024-05-31      90\n",
       "2024-01-21      45\n",
       "Name: count, dtype: int64"
      ]
     },
     "execution_count": 9,
     "metadata": {},
     "output_type": "execute_result"
    }
   ],
   "source": [
    "df_degra['measure_day'].value_counts()"
   ]
  }
 ],
 "metadata": {
  "kernelspec": {
   "display_name": "Python 3",
   "language": "python",
   "name": "python3"
  },
  "language_info": {
   "codemirror_mode": {
    "name": "ipython",
    "version": 3
   },
   "file_extension": ".py",
   "mimetype": "text/x-python",
   "name": "python",
   "nbconvert_exporter": "python",
   "pygments_lexer": "ipython3",
   "version": "3.12.3"
  }
 },
 "nbformat": 4,
 "nbformat_minor": 2
}
