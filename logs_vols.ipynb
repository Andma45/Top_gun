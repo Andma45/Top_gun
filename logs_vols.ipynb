{
 "cells": [
  {
   "cell_type": "code",
   "execution_count": 10,
   "metadata": {},
   "outputs": [],
   "source": [
    "import pandas as pd\n",
    "import json"
   ]
  },
  {
   "cell_type": "code",
   "execution_count": 2,
   "metadata": {},
   "outputs": [],
   "source": [
    "df_vol = pd.read_csv(r'C:\\Document\\Python\\Projet\\Projet_3\\csv\\logs_vols_2024-06-02.csv')"
   ]
  },
  {
   "cell_type": "code",
   "execution_count": 3,
   "metadata": {},
   "outputs": [
    {
     "data": {
      "text/html": [
       "<div>\n",
       "<style scoped>\n",
       "    .dataframe tbody tr th:only-of-type {\n",
       "        vertical-align: middle;\n",
       "    }\n",
       "\n",
       "    .dataframe tbody tr th {\n",
       "        vertical-align: top;\n",
       "    }\n",
       "\n",
       "    .dataframe thead th {\n",
       "        text-align: right;\n",
       "    }\n",
       "</style>\n",
       "<table border=\"1\" class=\"dataframe\">\n",
       "  <thead>\n",
       "    <tr style=\"text-align: right;\">\n",
       "      <th></th>\n",
       "      <th>ref_vol</th>\n",
       "      <th>aero_linked</th>\n",
       "      <th>jour_vol</th>\n",
       "      <th>time_en_air</th>\n",
       "      <th>sensor_data</th>\n",
       "      <th>etat_voyant</th>\n",
       "    </tr>\n",
       "  </thead>\n",
       "  <tbody>\n",
       "    <tr>\n",
       "      <th>0</th>\n",
       "      <td>V07679725</td>\n",
       "      <td>B767_4924</td>\n",
       "      <td>2024-06-02</td>\n",
       "      <td>7.0</td>\n",
       "      <td>{'temp': '-5.7°C', 'pressure': '930.6 hPa', 'vibrations': '3.1163905014858932 m/s²'}</td>\n",
       "      <td>0</td>\n",
       "    </tr>\n",
       "    <tr>\n",
       "      <th>1</th>\n",
       "      <td>V02564879</td>\n",
       "      <td>B747_3165</td>\n",
       "      <td>2024-06-02</td>\n",
       "      <td>5.1</td>\n",
       "      <td>{'temp': '0.9°C', 'pressure': '950.6 hPa', 'vibrations': '4.5578253809563725 m/s²'}</td>\n",
       "      <td>0</td>\n",
       "    </tr>\n",
       "    <tr>\n",
       "      <th>2</th>\n",
       "      <td>V07933973</td>\n",
       "      <td>B757_2518</td>\n",
       "      <td>2024-06-02</td>\n",
       "      <td>7.7</td>\n",
       "      <td>{'temp': '-6.2°C', 'pressure': '975.5 hPa', 'vibrations': '4.58707061982232 m/s²'}</td>\n",
       "      <td>3</td>\n",
       "    </tr>\n",
       "    <tr>\n",
       "      <th>3</th>\n",
       "      <td>V02230187</td>\n",
       "      <td>A340_1047</td>\n",
       "      <td>2024-06-02</td>\n",
       "      <td>6.1</td>\n",
       "      <td>{'temp': '-25.3°C', 'pressure': '945.1 hPa', 'vibrations': '3.287868564197513 m/s²'}</td>\n",
       "      <td>1</td>\n",
       "    </tr>\n",
       "    <tr>\n",
       "      <th>4</th>\n",
       "      <td>V09071213</td>\n",
       "      <td>B757_6806</td>\n",
       "      <td>2024-06-02</td>\n",
       "      <td>4.5</td>\n",
       "      <td>{'temp': '11.1°C', 'pressure': '931.3 hPa', 'vibrations': '2.8166257793381355 m/s²'}</td>\n",
       "      <td>0</td>\n",
       "    </tr>\n",
       "    <tr>\n",
       "      <th>5</th>\n",
       "      <td>V05268617</td>\n",
       "      <td>B747_1460</td>\n",
       "      <td>2024-06-02</td>\n",
       "      <td>4.2</td>\n",
       "      <td>{'temp': '6.7°C', 'pressure': '929.1 hPa', 'vibrations': '4.395360606179412 m/s²'}</td>\n",
       "      <td>0</td>\n",
       "    </tr>\n",
       "    <tr>\n",
       "      <th>6</th>\n",
       "      <td>V06337912</td>\n",
       "      <td>E170_4215</td>\n",
       "      <td>2024-06-02</td>\n",
       "      <td>2.2</td>\n",
       "      <td>{'temp': '-3.3°C', 'pressure': '901.4 hPa', 'vibrations': '0.11158576392007458 m/s²'}</td>\n",
       "      <td>0</td>\n",
       "    </tr>\n",
       "    <tr>\n",
       "      <th>7</th>\n",
       "      <td>V05407340</td>\n",
       "      <td>A330_6708</td>\n",
       "      <td>2024-06-02</td>\n",
       "      <td>6.0</td>\n",
       "      <td>{'temp': '9.7°C', 'pressure': '861.6 hPa', 'vibrations': '4.045373429186297 m/s²'}</td>\n",
       "      <td>0</td>\n",
       "    </tr>\n",
       "    <tr>\n",
       "      <th>8</th>\n",
       "      <td>V05601943</td>\n",
       "      <td>A350_6031</td>\n",
       "      <td>2024-06-02</td>\n",
       "      <td>6.7</td>\n",
       "      <td>{'temp': '-1.8°C', 'pressure': '938.3 hPa', 'vibrations': '3.246045907069765 m/s²'}</td>\n",
       "      <td>0</td>\n",
       "    </tr>\n",
       "    <tr>\n",
       "      <th>9</th>\n",
       "      <td>V04748755</td>\n",
       "      <td>A380_2079</td>\n",
       "      <td>2024-06-02</td>\n",
       "      <td>3.1</td>\n",
       "      <td>{'temp': '1.3°C', 'pressure': '987.4 hPa', 'vibrations': '0.0731033741033088 m/s²'}</td>\n",
       "      <td>0</td>\n",
       "    </tr>\n",
       "  </tbody>\n",
       "</table>\n",
       "</div>"
      ],
      "text/plain": [
       "     ref_vol aero_linked    jour_vol  time_en_air  \\\n",
       "0  V07679725   B767_4924  2024-06-02          7.0   \n",
       "1  V02564879   B747_3165  2024-06-02          5.1   \n",
       "2  V07933973   B757_2518  2024-06-02          7.7   \n",
       "3  V02230187   A340_1047  2024-06-02          6.1   \n",
       "4  V09071213   B757_6806  2024-06-02          4.5   \n",
       "5  V05268617   B747_1460  2024-06-02          4.2   \n",
       "6  V06337912   E170_4215  2024-06-02          2.2   \n",
       "7  V05407340   A330_6708  2024-06-02          6.0   \n",
       "8  V05601943   A350_6031  2024-06-02          6.7   \n",
       "9  V04748755   A380_2079  2024-06-02          3.1   \n",
       "\n",
       "                                                                             sensor_data  \\\n",
       "0   {'temp': '-5.7°C', 'pressure': '930.6 hPa', 'vibrations': '3.1163905014858932 m/s²'}   \n",
       "1    {'temp': '0.9°C', 'pressure': '950.6 hPa', 'vibrations': '4.5578253809563725 m/s²'}   \n",
       "2     {'temp': '-6.2°C', 'pressure': '975.5 hPa', 'vibrations': '4.58707061982232 m/s²'}   \n",
       "3   {'temp': '-25.3°C', 'pressure': '945.1 hPa', 'vibrations': '3.287868564197513 m/s²'}   \n",
       "4   {'temp': '11.1°C', 'pressure': '931.3 hPa', 'vibrations': '2.8166257793381355 m/s²'}   \n",
       "5     {'temp': '6.7°C', 'pressure': '929.1 hPa', 'vibrations': '4.395360606179412 m/s²'}   \n",
       "6  {'temp': '-3.3°C', 'pressure': '901.4 hPa', 'vibrations': '0.11158576392007458 m/s²'}   \n",
       "7     {'temp': '9.7°C', 'pressure': '861.6 hPa', 'vibrations': '4.045373429186297 m/s²'}   \n",
       "8    {'temp': '-1.8°C', 'pressure': '938.3 hPa', 'vibrations': '3.246045907069765 m/s²'}   \n",
       "9    {'temp': '1.3°C', 'pressure': '987.4 hPa', 'vibrations': '0.0731033741033088 m/s²'}   \n",
       "\n",
       "   etat_voyant  \n",
       "0            0  \n",
       "1            0  \n",
       "2            3  \n",
       "3            1  \n",
       "4            0  \n",
       "5            0  \n",
       "6            0  \n",
       "7            0  \n",
       "8            0  \n",
       "9            0  "
      ]
     },
     "execution_count": 3,
     "metadata": {},
     "output_type": "execute_result"
    }
   ],
   "source": [
    "pd.set_option('display.max_colwidth', None)\n",
    "\n",
    "df_vol.head(10)"
   ]
  },
  {
   "cell_type": "code",
   "execution_count": 4,
   "metadata": {},
   "outputs": [
    {
     "data": {
      "text/html": [
       "<div>\n",
       "<style scoped>\n",
       "    .dataframe tbody tr th:only-of-type {\n",
       "        vertical-align: middle;\n",
       "    }\n",
       "\n",
       "    .dataframe tbody tr th {\n",
       "        vertical-align: top;\n",
       "    }\n",
       "\n",
       "    .dataframe thead th {\n",
       "        text-align: right;\n",
       "    }\n",
       "</style>\n",
       "<table border=\"1\" class=\"dataframe\">\n",
       "  <thead>\n",
       "    <tr style=\"text-align: right;\">\n",
       "      <th></th>\n",
       "      <th>ref_vol</th>\n",
       "      <th>aero_linked</th>\n",
       "      <th>jour_vol</th>\n",
       "      <th>time_en_air</th>\n",
       "      <th>sensor_data</th>\n",
       "      <th>etat_voyant</th>\n",
       "    </tr>\n",
       "  </thead>\n",
       "  <tbody>\n",
       "    <tr>\n",
       "      <th>2</th>\n",
       "      <td>V07933973</td>\n",
       "      <td>B757_2518</td>\n",
       "      <td>2024-06-02</td>\n",
       "      <td>7.7</td>\n",
       "      <td>{'temp': '-6.2°C', 'pressure': '975.5 hPa', 'vibrations': '4.58707061982232 m/s²'}</td>\n",
       "      <td>3</td>\n",
       "    </tr>\n",
       "  </tbody>\n",
       "</table>\n",
       "</div>"
      ],
      "text/plain": [
       "     ref_vol aero_linked    jour_vol  time_en_air  \\\n",
       "2  V07933973   B757_2518  2024-06-02          7.7   \n",
       "\n",
       "                                                                          sensor_data  \\\n",
       "2  {'temp': '-6.2°C', 'pressure': '975.5 hPa', 'vibrations': '4.58707061982232 m/s²'}   \n",
       "\n",
       "   etat_voyant  \n",
       "2            3  "
      ]
     },
     "execution_count": 4,
     "metadata": {},
     "output_type": "execute_result"
    }
   ],
   "source": [
    "df_b757 = df_vol[df_vol['aero_linked'] == 'B757_2518']\n",
    "df_b757"
   ]
  },
  {
   "cell_type": "code",
   "execution_count": 23,
   "metadata": {},
   "outputs": [],
   "source": [
    "# split json\n",
    "json_data = df_vol['sensor_data']"
   ]
  },
  {
   "cell_type": "code",
   "execution_count": 24,
   "metadata": {},
   "outputs": [
    {
     "name": "stdout",
     "output_type": "stream",
     "text": [
      "0 : {'temp': '-5.7°C', 'pressure': '930.6 hPa', 'vibrations': '3.1163905014858932 m/s²'}\n",
      "1 : {'temp': '0.9°C', 'pressure': '950.6 hPa', 'vibrations': '4.5578253809563725 m/s²'}\n",
      "2 : {'temp': '-6.2°C', 'pressure': '975.5 hPa', 'vibrations': '4.58707061982232 m/s²'}\n",
      "3 : {'temp': '-25.3°C', 'pressure': '945.1 hPa', 'vibrations': '3.287868564197513 m/s²'}\n",
      "4 : {'temp': '11.1°C', 'pressure': '931.3 hPa', 'vibrations': '2.8166257793381355 m/s²'}\n",
      "5 : {'temp': '6.7°C', 'pressure': '929.1 hPa', 'vibrations': '4.395360606179412 m/s²'}\n",
      "6 : {'temp': '-3.3°C', 'pressure': '901.4 hPa', 'vibrations': '0.11158576392007458 m/s²'}\n",
      "7 : {'temp': '9.7°C', 'pressure': '861.6 hPa', 'vibrations': '4.045373429186297 m/s²'}\n",
      "8 : {'temp': '-1.8°C', 'pressure': '938.3 hPa', 'vibrations': '3.246045907069765 m/s²'}\n",
      "9 : {'temp': '1.3°C', 'pressure': '987.4 hPa', 'vibrations': '0.0731033741033088 m/s²'}\n",
      "10 : {'temp': '-9.4°C', 'pressure': '839.2 hPa', 'vibrations': '0.22741716993574967 m/s²'}\n",
      "11 : {'temp': '5.2°C', 'pressure': '888.8 hPa', 'vibrations': '4.235834185320216 m/s²'}\n",
      "12 : {'temp': '-0.9°C', 'pressure': '968.4 hPa', 'vibrations': '3.2486495155908117 m/s²'}\n",
      "13 : {'temp': '-11.8°C', 'pressure': '899.0 hPa', 'vibrations': '1.5818307677297012 m/s²'}\n",
      "14 : {'temp': '-16.8°C', 'pressure': '943.6 hPa', 'vibrations': '3.808052388481019 m/s²'}\n",
      "15 : {'temp': '17.3°C', 'pressure': '919.1 hPa', 'vibrations': '1.7699363063901086 m/s²'}\n",
      "16 : {'temp': '2.7°C', 'pressure': '888.3 hPa', 'vibrations': '4.4462131528742574 m/s²'}\n",
      "17 : {'temp': '-7.4°C', 'pressure': '1017.2 hPa', 'vibrations': '4.631840051213865 m/s²'}\n",
      "18 : {'temp': '3.7°C', 'pressure': '931.4 hPa', 'vibrations': '3.394447176402935 m/s²'}\n",
      "19 : {'temp': '14.9°C', 'pressure': '983.3 hPa', 'vibrations': '3.5073642959334768 m/s²'}\n",
      "20 : {'temp': '1.2°C', 'pressure': '985.1 hPa', 'vibrations': '0.644802795997626 m/s²'}\n",
      "21 : {'temp': '4.5°C', 'pressure': '916.2 hPa', 'vibrations': '4.315323449029554 m/s²'}\n",
      "22 : {'temp': '7.8°C', 'pressure': '942.8 hPa', 'vibrations': '3.2178870917942204 m/s²'}\n",
      "23 : {'temp': '7.6°C', 'pressure': '946.9 hPa', 'vibrations': '1.1372483870592203 m/s²'}\n",
      "24 : {'temp': '-11.3°C', 'pressure': '955.0 hPa', 'vibrations': '4.335380603241454 m/s²'}\n",
      "25 : {'temp': '12.2°C', 'pressure': '931.8 hPa', 'vibrations': '0.7713919029364058 m/s²'}\n",
      "26 : {'temp': '-0.8°C', 'pressure': '889.4 hPa', 'vibrations': '0.6274437152384305 m/s²'}\n",
      "27 : {'temp': '4.5°C', 'pressure': '928.4 hPa', 'vibrations': '4.336721939941646 m/s²'}\n",
      "28 : {'temp': '-6.0°C', 'pressure': '926.3 hPa', 'vibrations': '0.1289597809474624 m/s²'}\n",
      "29 : {'temp': '-2.1°C', 'pressure': '988.5 hPa', 'vibrations': '2.69463465069133 m/s²'}\n",
      "30 : {'temp': '4.5°C', 'pressure': '929.7 hPa', 'vibrations': '3.8820547316880853 m/s²'}\n",
      "31 : {'temp': '11.9°C', 'pressure': '925.5 hPa', 'vibrations': '3.3242793105027086 m/s²'}\n",
      "32 : {'temp': '-11.9°C', 'pressure': '903.9 hPa', 'vibrations': '0.8437004655859026 m/s²'}\n",
      "33 : {'temp': '8.4°C', 'pressure': '945.0 hPa', 'vibrations': '4.167307004605548 m/s²'}\n",
      "34 : {'temp': '8.1°C', 'pressure': '894.3 hPa', 'vibrations': '0.8223449547775424 m/s²'}\n",
      "35 : {'temp': '-7.8°C', 'pressure': '864.0 hPa', 'vibrations': '2.0858754093832195 m/s²'}\n",
      "36 : {'temp': '-8.4°C', 'pressure': '954.2 hPa', 'vibrations': '4.212268701563983 m/s²'}\n",
      "37 : {'temp': '6.5°C', 'pressure': '968.4 hPa', 'vibrations': '2.1689274743766243 m/s²'}\n",
      "38 : {'temp': '12.6°C', 'pressure': '865.2 hPa', 'vibrations': '3.3305039080747028 m/s²'}\n",
      "39 : {'temp': '3.1°C', 'pressure': '915.0 hPa', 'vibrations': '3.107744000538924 m/s²'}\n",
      "40 : {'temp': '-2.9°C', 'pressure': '956.1 hPa', 'vibrations': '1.297831307345917 m/s²'}\n",
      "41 : {'temp': '-4.3°C', 'pressure': '980.6 hPa', 'vibrations': '3.8198722989617595 m/s²'}\n",
      "42 : {'temp': '-2.7°C', 'pressure': '983.6 hPa', 'vibrations': '1.4865739994161853 m/s²'}\n",
      "43 : {'temp': '2.5°C', 'pressure': '959.7 hPa', 'vibrations': '2.57530771607444 m/s²'}\n",
      "44 : {'temp': '3.7°C', 'pressure': '903.1 hPa', 'vibrations': '0.9415680507830165 m/s²'}\n",
      "45 : {'temp': '6.7°C', 'pressure': '983.0 hPa', 'vibrations': '3.173507243818179 m/s²'}\n",
      "46 : {'temp': '-8.3°C', 'pressure': '889.2 hPa', 'vibrations': '1.4385970515806334 m/s²'}\n",
      "47 : {'temp': '6.1°C', 'pressure': '923.1 hPa', 'vibrations': '0.14485567966298019 m/s²'}\n",
      "48 : {'temp': '-7.5°C', 'pressure': '955.9 hPa', 'vibrations': '4.485846437506881 m/s²'}\n",
      "49 : {'temp': '12.8°C', 'pressure': '928.9 hPa', 'vibrations': '2.8227084935909383 m/s²'}\n",
      "50 : {'temp': '-1.9°C', 'pressure': '1000.6 hPa', 'vibrations': '4.735456041552412 m/s²'}\n",
      "51 : {'temp': '-16.7°C', 'pressure': '957.1 hPa', 'vibrations': '3.201794573263931 m/s²'}\n",
      "52 : {'temp': '3.1°C', 'pressure': '943.7 hPa', 'vibrations': '1.4743385707240448 m/s²'}\n",
      "53 : {'temp': '-1.7°C', 'pressure': '956.7 hPa', 'vibrations': '0.5645504255134037 m/s²'}\n",
      "54 : {'temp': '-7.1°C', 'pressure': '1053.1 hPa', 'vibrations': '0.17726046101126103 m/s²'}\n",
      "55 : {'temp': '3.2°C', 'pressure': '957.8 hPa', 'vibrations': '2.532262850171441 m/s²'}\n",
      "56 : {'temp': '-8.5°C', 'pressure': '925.2 hPa', 'vibrations': '2.1402589263899765 m/s²'}\n",
      "57 : {'temp': '-8.0°C', 'pressure': '1040.3 hPa', 'vibrations': '1.2843916424588335 m/s²'}\n",
      "58 : {'temp': '-13.9°C', 'pressure': '963.5 hPa', 'vibrations': '0.45608767523149574 m/s²'}\n",
      "59 : {'temp': '8.2°C', 'pressure': '905.9 hPa', 'vibrations': '2.1511054212156973 m/s²'}\n",
      "60 : {'temp': '2.1°C', 'pressure': '1038.6 hPa', 'vibrations': '0.5236160966425046 m/s²'}\n",
      "61 : {'temp': '-5.6°C', 'pressure': '879.2 hPa', 'vibrations': '1.1941292015226768 m/s²'}\n",
      "62 : {'temp': '-3.1°C', 'pressure': '944.2 hPa', 'vibrations': '0.10393012355558617 m/s²'}\n",
      "63 : {'temp': '3.6°C', 'pressure': '978.0 hPa', 'vibrations': '0.1257234297668064 m/s²'}\n",
      "64 : {'temp': '14.1°C', 'pressure': '1005.6 hPa', 'vibrations': '1.8971597669557099 m/s²'}\n",
      "65 : {'temp': '-9.2°C', 'pressure': '988.0 hPa', 'vibrations': '2.871237715096768 m/s²'}\n",
      "66 : {'temp': '4.4°C', 'pressure': '1004.5 hPa', 'vibrations': '4.3857692665756245 m/s²'}\n",
      "67 : {'temp': '4.8°C', 'pressure': '879.0 hPa', 'vibrations': '1.800780053405862 m/s²'}\n",
      "68 : {'temp': '0.6°C', 'pressure': '918.4 hPa', 'vibrations': '4.411713998856753 m/s²'}\n",
      "69 : {'temp': '5.5°C', 'pressure': '994.1 hPa', 'vibrations': '4.435337601661461 m/s²'}\n",
      "70 : {'temp': '12.7°C', 'pressure': '943.9 hPa', 'vibrations': '4.528158924595234 m/s²'}\n",
      "71 : {'temp': '8.0°C', 'pressure': '936.8 hPa', 'vibrations': '4.661005186697576 m/s²'}\n",
      "72 : {'temp': '18.6°C', 'pressure': '914.4 hPa', 'vibrations': '1.6765254386711965 m/s²'}\n",
      "73 : {'temp': '-5.8°C', 'pressure': '927.8 hPa', 'vibrations': '2.959526780812614 m/s²'}\n",
      "74 : {'temp': '-6.1°C', 'pressure': '906.0 hPa', 'vibrations': '0.5924007786371349 m/s²'}\n",
      "75 : {'temp': '-2.1°C', 'pressure': '910.8 hPa', 'vibrations': '2.400416706609136 m/s²'}\n",
      "76 : {'temp': '-16.7°C', 'pressure': '987.1 hPa', 'vibrations': '0.44643993815223937 m/s²'}\n",
      "77 : {'temp': '4.5°C', 'pressure': '936.4 hPa', 'vibrations': '0.8065734511733375 m/s²'}\n",
      "78 : {'temp': '-1.0°C', 'pressure': '1026.6 hPa', 'vibrations': '3.8862206146177702 m/s²'}\n",
      "79 : {'temp': '2.6°C', 'pressure': '962.9 hPa', 'vibrations': '0.6279787599599118 m/s²'}\n",
      "80 : {'temp': '1.3°C', 'pressure': '991.2 hPa', 'vibrations': '2.6697111799684654 m/s²'}\n",
      "81 : {'temp': '2.1°C', 'pressure': '906.1 hPa', 'vibrations': '0.4389734155911845 m/s²'}\n",
      "82 : {'temp': '5.0°C', 'pressure': '941.6 hPa', 'vibrations': '3.485781922135514 m/s²'}\n",
      "83 : {'temp': '-10.4°C', 'pressure': '922.8 hPa', 'vibrations': '2.502658503873236 m/s²'}\n",
      "84 : {'temp': '-7.0°C', 'pressure': '898.2 hPa', 'vibrations': '0.7505893090618393 m/s²'}\n",
      "85 : {'temp': '0.4°C', 'pressure': '865.4 hPa', 'vibrations': '4.6080981801396685 m/s²'}\n",
      "86 : {'temp': '-4.7°C', 'pressure': '928.5 hPa', 'vibrations': '4.092395273456538 m/s²'}\n",
      "87 : {'temp': '-0.0°C', 'pressure': '957.3 hPa', 'vibrations': '1.665695383945562 m/s²'}\n",
      "88 : {'temp': '4.7°C', 'pressure': '951.5 hPa', 'vibrations': '3.7858781957417813 m/s²'}\n",
      "89 : {'temp': '-3.2°C', 'pressure': '1035.5 hPa', 'vibrations': '0.7331107365806583 m/s²'}\n",
      "90 : {'temp': '22.4°C', 'pressure': '961.4 hPa', 'vibrations': '2.7961754688925837 m/s²'}\n",
      "91 : {'temp': '8.8°C', 'pressure': '914.3 hPa', 'vibrations': '0.2659422594512151 m/s²'}\n",
      "92 : {'temp': '-1.4°C', 'pressure': '872.1 hPa', 'vibrations': '2.358621203506259 m/s²'}\n",
      "93 : {'temp': '-5.3°C', 'pressure': '866.8 hPa', 'vibrations': '0.32972090537519483 m/s²'}\n",
      "94 : {'temp': '-15.8°C', 'pressure': '967.0 hPa', 'vibrations': '0.5322723736683688 m/s²'}\n",
      "95 : {'temp': '-6.4°C', 'pressure': '966.1 hPa', 'vibrations': '3.600632348965733 m/s²'}\n",
      "96 : {'temp': '-18.3°C', 'pressure': '973.3 hPa', 'vibrations': '2.0827694406743524 m/s²'}\n",
      "97 : {'temp': '2.8°C', 'pressure': '949.4 hPa', 'vibrations': '3.029759269497611 m/s²'}\n",
      "98 : {'temp': '-6.0°C', 'pressure': '925.1 hPa', 'vibrations': '2.2291476661216194 m/s²'}\n"
     ]
    }
   ],
   "source": [
    "for key, values in json_data.items():\n",
    "    print(key, ':', values)"
   ]
  },
  {
   "cell_type": "code",
   "execution_count": null,
   "metadata": {},
   "outputs": [],
   "source": [
    "dictionnaire = {\n",
    "    \"temp\" : 0,\n",
    "    \"pressure\" : 0,\n",
    "    \"vibrations\" : 0\n",
    "}\n",
    "\n"
   ]
  },
  {
   "cell_type": "code",
   "execution_count": 8,
   "metadata": {},
   "outputs": [
    {
     "name": "stdout",
     "output_type": "stream",
     "text": [
      "<class 'pandas.core.frame.DataFrame'>\n",
      "RangeIndex: 99 entries, 0 to 98\n",
      "Data columns (total 6 columns):\n",
      " #   Column       Non-Null Count  Dtype  \n",
      "---  ------       --------------  -----  \n",
      " 0   ref_vol      99 non-null     object \n",
      " 1   aero_linked  99 non-null     object \n",
      " 2   jour_vol     99 non-null     object \n",
      " 3   time_en_air  99 non-null     float64\n",
      " 4   sensor_data  99 non-null     object \n",
      " 5   etat_voyant  99 non-null     int64  \n",
      "dtypes: float64(1), int64(1), object(4)\n",
      "memory usage: 4.8+ KB\n"
     ]
    }
   ],
   "source": [
    "df_vol.info()"
   ]
  },
  {
   "cell_type": "code",
   "execution_count": 6,
   "metadata": {},
   "outputs": [
    {
     "data": {
      "text/plain": [
       "count    99.000000\n",
       "mean      5.232323\n",
       "std       2.592053\n",
       "min       0.600000\n",
       "25%       3.450000\n",
       "50%       5.200000\n",
       "75%       6.800000\n",
       "max      12.100000\n",
       "Name: time_en_air, dtype: float64"
      ]
     },
     "execution_count": 6,
     "metadata": {},
     "output_type": "execute_result"
    }
   ],
   "source": [
    "df_vol['time_en_air'].describe()"
   ]
  },
  {
   "cell_type": "code",
   "execution_count": 7,
   "metadata": {},
   "outputs": [
    {
     "data": {
      "text/plain": [
       "etat_voyant\n",
       "0    84\n",
       "1    13\n",
       "3     2\n",
       "Name: count, dtype: int64"
      ]
     },
     "execution_count": 7,
     "metadata": {},
     "output_type": "execute_result"
    }
   ],
   "source": [
    "df_vol['etat_voyant'].value_counts()"
   ]
  },
  {
   "cell_type": "code",
   "execution_count": null,
   "metadata": {},
   "outputs": [],
   "source": []
  }
 ],
 "metadata": {
  "kernelspec": {
   "display_name": "Python 3",
   "language": "python",
   "name": "python3"
  },
  "language_info": {
   "codemirror_mode": {
    "name": "ipython",
    "version": 3
   },
   "file_extension": ".py",
   "mimetype": "text/x-python",
   "name": "python",
   "nbconvert_exporter": "python",
   "pygments_lexer": "ipython3",
   "version": "3.12.3"
  }
 },
 "nbformat": 4,
 "nbformat_minor": 2
}
