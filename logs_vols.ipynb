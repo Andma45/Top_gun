{
 "cells": [
  {
   "cell_type": "code",
   "execution_count": 1,
   "metadata": {},
   "outputs": [],
   "source": [
    "import pandas as pd"
   ]
  },
  {
   "cell_type": "code",
   "execution_count": 2,
   "metadata": {},
   "outputs": [],
   "source": [
    "df_vol = pd.read_csv(r'C:\\Document\\Python\\Projet\\Projet_3\\csv\\logs_vols_2024-06-02.csv')"
   ]
  },
  {
   "cell_type": "code",
   "execution_count": 9,
   "metadata": {},
   "outputs": [
    {
     "data": {
      "text/html": [
       "<div>\n",
       "<style scoped>\n",
       "    .dataframe tbody tr th:only-of-type {\n",
       "        vertical-align: middle;\n",
       "    }\n",
       "\n",
       "    .dataframe tbody tr th {\n",
       "        vertical-align: top;\n",
       "    }\n",
       "\n",
       "    .dataframe thead th {\n",
       "        text-align: right;\n",
       "    }\n",
       "</style>\n",
       "<table border=\"1\" class=\"dataframe\">\n",
       "  <thead>\n",
       "    <tr style=\"text-align: right;\">\n",
       "      <th></th>\n",
       "      <th>ref_vol</th>\n",
       "      <th>aero_linked</th>\n",
       "      <th>jour_vol</th>\n",
       "      <th>time_en_air</th>\n",
       "      <th>sensor_data</th>\n",
       "      <th>etat_voyant</th>\n",
       "    </tr>\n",
       "  </thead>\n",
       "  <tbody>\n",
       "    <tr>\n",
       "      <th>0</th>\n",
       "      <td>V07679725</td>\n",
       "      <td>B767_4924</td>\n",
       "      <td>2024-06-02</td>\n",
       "      <td>7.0</td>\n",
       "      <td>{'temp': '-5.7°C', 'pressure': '930.6 hPa', 'vibrations': '3.1163905014858932 m/s²'}</td>\n",
       "      <td>0</td>\n",
       "    </tr>\n",
       "    <tr>\n",
       "      <th>1</th>\n",
       "      <td>V02564879</td>\n",
       "      <td>B747_3165</td>\n",
       "      <td>2024-06-02</td>\n",
       "      <td>5.1</td>\n",
       "      <td>{'temp': '0.9°C', 'pressure': '950.6 hPa', 'vibrations': '4.5578253809563725 m/s²'}</td>\n",
       "      <td>0</td>\n",
       "    </tr>\n",
       "    <tr>\n",
       "      <th>2</th>\n",
       "      <td>V07933973</td>\n",
       "      <td>B757_2518</td>\n",
       "      <td>2024-06-02</td>\n",
       "      <td>7.7</td>\n",
       "      <td>{'temp': '-6.2°C', 'pressure': '975.5 hPa', 'vibrations': '4.58707061982232 m/s²'}</td>\n",
       "      <td>3</td>\n",
       "    </tr>\n",
       "    <tr>\n",
       "      <th>3</th>\n",
       "      <td>V02230187</td>\n",
       "      <td>A340_1047</td>\n",
       "      <td>2024-06-02</td>\n",
       "      <td>6.1</td>\n",
       "      <td>{'temp': '-25.3°C', 'pressure': '945.1 hPa', 'vibrations': '3.287868564197513 m/s²'}</td>\n",
       "      <td>1</td>\n",
       "    </tr>\n",
       "    <tr>\n",
       "      <th>4</th>\n",
       "      <td>V09071213</td>\n",
       "      <td>B757_6806</td>\n",
       "      <td>2024-06-02</td>\n",
       "      <td>4.5</td>\n",
       "      <td>{'temp': '11.1°C', 'pressure': '931.3 hPa', 'vibrations': '2.8166257793381355 m/s²'}</td>\n",
       "      <td>0</td>\n",
       "    </tr>\n",
       "    <tr>\n",
       "      <th>5</th>\n",
       "      <td>V05268617</td>\n",
       "      <td>B747_1460</td>\n",
       "      <td>2024-06-02</td>\n",
       "      <td>4.2</td>\n",
       "      <td>{'temp': '6.7°C', 'pressure': '929.1 hPa', 'vibrations': '4.395360606179412 m/s²'}</td>\n",
       "      <td>0</td>\n",
       "    </tr>\n",
       "    <tr>\n",
       "      <th>6</th>\n",
       "      <td>V06337912</td>\n",
       "      <td>E170_4215</td>\n",
       "      <td>2024-06-02</td>\n",
       "      <td>2.2</td>\n",
       "      <td>{'temp': '-3.3°C', 'pressure': '901.4 hPa', 'vibrations': '0.11158576392007458 m/s²'}</td>\n",
       "      <td>0</td>\n",
       "    </tr>\n",
       "    <tr>\n",
       "      <th>7</th>\n",
       "      <td>V05407340</td>\n",
       "      <td>A330_6708</td>\n",
       "      <td>2024-06-02</td>\n",
       "      <td>6.0</td>\n",
       "      <td>{'temp': '9.7°C', 'pressure': '861.6 hPa', 'vibrations': '4.045373429186297 m/s²'}</td>\n",
       "      <td>0</td>\n",
       "    </tr>\n",
       "    <tr>\n",
       "      <th>8</th>\n",
       "      <td>V05601943</td>\n",
       "      <td>A350_6031</td>\n",
       "      <td>2024-06-02</td>\n",
       "      <td>6.7</td>\n",
       "      <td>{'temp': '-1.8°C', 'pressure': '938.3 hPa', 'vibrations': '3.246045907069765 m/s²'}</td>\n",
       "      <td>0</td>\n",
       "    </tr>\n",
       "    <tr>\n",
       "      <th>9</th>\n",
       "      <td>V04748755</td>\n",
       "      <td>A380_2079</td>\n",
       "      <td>2024-06-02</td>\n",
       "      <td>3.1</td>\n",
       "      <td>{'temp': '1.3°C', 'pressure': '987.4 hPa', 'vibrations': '0.0731033741033088 m/s²'}</td>\n",
       "      <td>0</td>\n",
       "    </tr>\n",
       "  </tbody>\n",
       "</table>\n",
       "</div>"
      ],
      "text/plain": [
       "     ref_vol aero_linked    jour_vol  time_en_air  \\\n",
       "0  V07679725   B767_4924  2024-06-02          7.0   \n",
       "1  V02564879   B747_3165  2024-06-02          5.1   \n",
       "2  V07933973   B757_2518  2024-06-02          7.7   \n",
       "3  V02230187   A340_1047  2024-06-02          6.1   \n",
       "4  V09071213   B757_6806  2024-06-02          4.5   \n",
       "5  V05268617   B747_1460  2024-06-02          4.2   \n",
       "6  V06337912   E170_4215  2024-06-02          2.2   \n",
       "7  V05407340   A330_6708  2024-06-02          6.0   \n",
       "8  V05601943   A350_6031  2024-06-02          6.7   \n",
       "9  V04748755   A380_2079  2024-06-02          3.1   \n",
       "\n",
       "                                                                             sensor_data  \\\n",
       "0   {'temp': '-5.7°C', 'pressure': '930.6 hPa', 'vibrations': '3.1163905014858932 m/s²'}   \n",
       "1    {'temp': '0.9°C', 'pressure': '950.6 hPa', 'vibrations': '4.5578253809563725 m/s²'}   \n",
       "2     {'temp': '-6.2°C', 'pressure': '975.5 hPa', 'vibrations': '4.58707061982232 m/s²'}   \n",
       "3   {'temp': '-25.3°C', 'pressure': '945.1 hPa', 'vibrations': '3.287868564197513 m/s²'}   \n",
       "4   {'temp': '11.1°C', 'pressure': '931.3 hPa', 'vibrations': '2.8166257793381355 m/s²'}   \n",
       "5     {'temp': '6.7°C', 'pressure': '929.1 hPa', 'vibrations': '4.395360606179412 m/s²'}   \n",
       "6  {'temp': '-3.3°C', 'pressure': '901.4 hPa', 'vibrations': '0.11158576392007458 m/s²'}   \n",
       "7     {'temp': '9.7°C', 'pressure': '861.6 hPa', 'vibrations': '4.045373429186297 m/s²'}   \n",
       "8    {'temp': '-1.8°C', 'pressure': '938.3 hPa', 'vibrations': '3.246045907069765 m/s²'}   \n",
       "9    {'temp': '1.3°C', 'pressure': '987.4 hPa', 'vibrations': '0.0731033741033088 m/s²'}   \n",
       "\n",
       "   etat_voyant  \n",
       "0            0  \n",
       "1            0  \n",
       "2            3  \n",
       "3            1  \n",
       "4            0  \n",
       "5            0  \n",
       "6            0  \n",
       "7            0  \n",
       "8            0  \n",
       "9            0  "
      ]
     },
     "execution_count": 9,
     "metadata": {},
     "output_type": "execute_result"
    }
   ],
   "source": [
    "pd.set_option('display.max_colwidth', None)\n",
    "\n",
    "df_vol.head(10)"
   ]
  },
  {
   "cell_type": "code",
   "execution_count": 11,
   "metadata": {},
   "outputs": [
    {
     "data": {
      "text/html": [
       "<div>\n",
       "<style scoped>\n",
       "    .dataframe tbody tr th:only-of-type {\n",
       "        vertical-align: middle;\n",
       "    }\n",
       "\n",
       "    .dataframe tbody tr th {\n",
       "        vertical-align: top;\n",
       "    }\n",
       "\n",
       "    .dataframe thead th {\n",
       "        text-align: right;\n",
       "    }\n",
       "</style>\n",
       "<table border=\"1\" class=\"dataframe\">\n",
       "  <thead>\n",
       "    <tr style=\"text-align: right;\">\n",
       "      <th></th>\n",
       "      <th>ref_vol</th>\n",
       "      <th>aero_linked</th>\n",
       "      <th>jour_vol</th>\n",
       "      <th>time_en_air</th>\n",
       "      <th>sensor_data</th>\n",
       "      <th>etat_voyant</th>\n",
       "    </tr>\n",
       "  </thead>\n",
       "  <tbody>\n",
       "    <tr>\n",
       "      <th>2</th>\n",
       "      <td>V07933973</td>\n",
       "      <td>B757_2518</td>\n",
       "      <td>2024-06-02</td>\n",
       "      <td>7.7</td>\n",
       "      <td>{'temp': '-6.2°C', 'pressure': '975.5 hPa', 'vibrations': '4.58707061982232 m/s²'}</td>\n",
       "      <td>3</td>\n",
       "    </tr>\n",
       "  </tbody>\n",
       "</table>\n",
       "</div>"
      ],
      "text/plain": [
       "     ref_vol aero_linked    jour_vol  time_en_air  \\\n",
       "2  V07933973   B757_2518  2024-06-02          7.7   \n",
       "\n",
       "                                                                          sensor_data  \\\n",
       "2  {'temp': '-6.2°C', 'pressure': '975.5 hPa', 'vibrations': '4.58707061982232 m/s²'}   \n",
       "\n",
       "   etat_voyant  \n",
       "2            3  "
      ]
     },
     "execution_count": 11,
     "metadata": {},
     "output_type": "execute_result"
    }
   ],
   "source": [
    "df_b757 = df_vol[df_vol['aero_linked'] == 'B757_2518']\n",
    "df_b757"
   ]
  },
  {
   "cell_type": "code",
   "execution_count": 6,
   "metadata": {},
   "outputs": [
    {
     "name": "stdout",
     "output_type": "stream",
     "text": [
      "<class 'pandas.core.frame.DataFrame'>\n",
      "RangeIndex: 99 entries, 0 to 98\n",
      "Data columns (total 6 columns):\n",
      " #   Column       Non-Null Count  Dtype  \n",
      "---  ------       --------------  -----  \n",
      " 0   ref_vol      99 non-null     object \n",
      " 1   aero_linked  99 non-null     object \n",
      " 2   jour_vol     99 non-null     object \n",
      " 3   time_en_air  99 non-null     float64\n",
      " 4   sensor_data  99 non-null     object \n",
      " 5   etat_voyant  99 non-null     int64  \n",
      "dtypes: float64(1), int64(1), object(4)\n",
      "memory usage: 4.8+ KB\n"
     ]
    }
   ],
   "source": [
    "df_vol.info()"
   ]
  },
  {
   "cell_type": "code",
   "execution_count": 7,
   "metadata": {},
   "outputs": [
    {
     "data": {
      "text/plain": [
       "count    99.000000\n",
       "mean      5.232323\n",
       "std       2.592053\n",
       "min       0.600000\n",
       "25%       3.450000\n",
       "50%       5.200000\n",
       "75%       6.800000\n",
       "max      12.100000\n",
       "Name: time_en_air, dtype: float64"
      ]
     },
     "execution_count": 7,
     "metadata": {},
     "output_type": "execute_result"
    }
   ],
   "source": [
    "df_vol['time_en_air'].describe()"
   ]
  },
  {
   "cell_type": "code",
   "execution_count": 8,
   "metadata": {},
   "outputs": [
    {
     "data": {
      "text/plain": [
       "etat_voyant\n",
       "0    84\n",
       "1    13\n",
       "3     2\n",
       "Name: count, dtype: int64"
      ]
     },
     "execution_count": 8,
     "metadata": {},
     "output_type": "execute_result"
    }
   ],
   "source": [
    "df_vol['etat_voyant'].value_counts()"
   ]
  },
  {
   "cell_type": "code",
   "execution_count": null,
   "metadata": {},
   "outputs": [],
   "source": []
  }
 ],
 "metadata": {
  "kernelspec": {
   "display_name": "Python 3",
   "language": "python",
   "name": "python3"
  },
  "language_info": {
   "codemirror_mode": {
    "name": "ipython",
    "version": 3
   },
   "file_extension": ".py",
   "mimetype": "text/x-python",
   "name": "python",
   "nbconvert_exporter": "python",
   "pygments_lexer": "ipython3",
   "version": "3.12.3"
  }
 },
 "nbformat": 4,
 "nbformat_minor": 2
}
