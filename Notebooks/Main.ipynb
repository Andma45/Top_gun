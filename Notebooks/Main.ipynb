{
 "cells": [
  {
   "cell_type": "code",
   "execution_count": 6,
   "metadata": {},
   "outputs": [],
   "source": [
    "from skimpy import skim as sk\n",
    "import json as js\n",
    "import requests as rq\n",
    "import pandas as pd\n",
    "import numpy as np\n",
    "import matplotlib.pyplot as plt\n",
    "import seaborn as sns\n",
    "from sklearn.preprocessing import StandardScaler as ss\n",
    "from sklearn.decomposition import PCA as pca\n",
    "from sklearn.cluster import KMeans as km"
   ]
  },
  {
   "cell_type": "code",
   "execution_count": 5,
   "metadata": {},
   "outputs": [
    {
     "data": {
      "text/html": [
       "<div>\n",
       "<style scoped>\n",
       "    .dataframe tbody tr th:only-of-type {\n",
       "        vertical-align: middle;\n",
       "    }\n",
       "\n",
       "    .dataframe tbody tr th {\n",
       "        vertical-align: top;\n",
       "    }\n",
       "\n",
       "    .dataframe thead th {\n",
       "        text-align: right;\n",
       "    }\n",
       "</style>\n",
       "<table border=\"1\" class=\"dataframe\">\n",
       "  <thead>\n",
       "    <tr style=\"text-align: right;\">\n",
       "      <th></th>\n",
       "      <th>ref_vol</th>\n",
       "      <th>aero_linked</th>\n",
       "      <th>jour_vol</th>\n",
       "      <th>time_en_air</th>\n",
       "      <th>sensor_data</th>\n",
       "      <th>etat_voyant</th>\n",
       "    </tr>\n",
       "  </thead>\n",
       "  <tbody>\n",
       "    <tr>\n",
       "      <th>0</th>\n",
       "      <td>V07679725</td>\n",
       "      <td>B767_4924</td>\n",
       "      <td>2024-06-02</td>\n",
       "      <td>7.0</td>\n",
       "      <td>{'temp': '-5.7°C', 'pressure': '930.6 hPa', 'v...</td>\n",
       "      <td>0</td>\n",
       "    </tr>\n",
       "    <tr>\n",
       "      <th>1</th>\n",
       "      <td>V02564879</td>\n",
       "      <td>B747_3165</td>\n",
       "      <td>2024-06-02</td>\n",
       "      <td>5.1</td>\n",
       "      <td>{'temp': '0.9°C', 'pressure': '950.6 hPa', 'vi...</td>\n",
       "      <td>0</td>\n",
       "    </tr>\n",
       "    <tr>\n",
       "      <th>2</th>\n",
       "      <td>V07933973</td>\n",
       "      <td>B757_2518</td>\n",
       "      <td>2024-06-02</td>\n",
       "      <td>7.7</td>\n",
       "      <td>{'temp': '-6.2°C', 'pressure': '975.5 hPa', 'v...</td>\n",
       "      <td>3</td>\n",
       "    </tr>\n",
       "    <tr>\n",
       "      <th>3</th>\n",
       "      <td>V02230187</td>\n",
       "      <td>A340_1047</td>\n",
       "      <td>2024-06-02</td>\n",
       "      <td>6.1</td>\n",
       "      <td>{'temp': '-25.3°C', 'pressure': '945.1 hPa', '...</td>\n",
       "      <td>1</td>\n",
       "    </tr>\n",
       "    <tr>\n",
       "      <th>4</th>\n",
       "      <td>V09071213</td>\n",
       "      <td>B757_6806</td>\n",
       "      <td>2024-06-02</td>\n",
       "      <td>4.5</td>\n",
       "      <td>{'temp': '11.1°C', 'pressure': '931.3 hPa', 'v...</td>\n",
       "      <td>0</td>\n",
       "    </tr>\n",
       "  </tbody>\n",
       "</table>\n",
       "</div>"
      ],
      "text/plain": [
       "     ref_vol aero_linked    jour_vol  time_en_air  \\\n",
       "0  V07679725   B767_4924  2024-06-02          7.0   \n",
       "1  V02564879   B747_3165  2024-06-02          5.1   \n",
       "2  V07933973   B757_2518  2024-06-02          7.7   \n",
       "3  V02230187   A340_1047  2024-06-02          6.1   \n",
       "4  V09071213   B757_6806  2024-06-02          4.5   \n",
       "\n",
       "                                         sensor_data  etat_voyant  \n",
       "0  {'temp': '-5.7°C', 'pressure': '930.6 hPa', 'v...            0  \n",
       "1  {'temp': '0.9°C', 'pressure': '950.6 hPa', 'vi...            0  \n",
       "2  {'temp': '-6.2°C', 'pressure': '975.5 hPa', 'v...            3  \n",
       "3  {'temp': '-25.3°C', 'pressure': '945.1 hPa', '...            1  \n",
       "4  {'temp': '11.1°C', 'pressure': '931.3 hPa', 'v...            0  "
      ]
     },
     "execution_count": 5,
     "metadata": {},
     "output_type": "execute_result"
    }
   ],
   "source": [
    "df_logs_vol = pd.read_csv('D:\\\\Sky_Analytics\\\\Datasets\\\\df_logs_vols\\\\logs_vols_2024-06-02.csv')\n"
   ]
  }
 ],
 "metadata": {
  "kernelspec": {
   "display_name": "Python 3",
   "language": "python",
   "name": "python3"
  },
  "language_info": {
   "codemirror_mode": {
    "name": "ipython",
    "version": 3
   },
   "file_extension": ".py",
   "mimetype": "text/x-python",
   "name": "python",
   "nbconvert_exporter": "python",
   "pygments_lexer": "ipython3",
   "version": "3.12.2"
  }
 },
 "nbformat": 4,
 "nbformat_minor": 2
}
