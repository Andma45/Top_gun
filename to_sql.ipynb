{
 "cells": [
  {
   "cell_type": "code",
   "execution_count": 1,
   "metadata": {},
   "outputs": [],
   "source": [
    "import pandas as pd\n",
    "import requests\n",
    "from datetime import datetime\n",
    "from sqlalchemy import create_engine"
   ]
  },
  {
   "cell_type": "code",
   "execution_count": 2,
   "metadata": {},
   "outputs": [],
   "source": [
    "aero_data = pd.read_csv(r'C:\\Document\\Python\\Projet\\Projet_3\\Top_gun\\Data_clean\\df_aeronef_clean.csv')\n",
    "compo_data = pd.read_csv(r'C:\\Document\\Python\\Projet\\Projet_3\\Top_gun\\Data_clean\\df_composants_clean.csv')"
   ]
  },
  {
   "cell_type": "code",
   "execution_count": 3,
   "metadata": {},
   "outputs": [],
   "source": [
    "# Fonction de nettoyage\n",
    "def nettoyer_donnees(aero_data, compo_data, ref_aero='E170_5551'):\n",
    "    # Supprimer les lignes correspondant à 'E170_5551' dans aero_data\n",
    "    aero_data = aero_data[aero_data['ref_aero'] != ref_aero]\n",
    "    \n",
    "    # Supprimer les lignes correspondant à 'E170_5551' dans compo_data\n",
    "    compo_data = compo_data[compo_data['aero'] != ref_aero]\n",
    "    \n",
    "    return aero_data, compo_data"
   ]
  },
  {
   "cell_type": "code",
   "execution_count": 4,
   "metadata": {},
   "outputs": [],
   "source": [
    "# Appliquer la fonction de nettoyage\n",
    "aero_data, compo_data = nettoyer_donnees(aero_data, compo_data)"
   ]
  },
  {
   "cell_type": "code",
   "execution_count": 5,
   "metadata": {},
   "outputs": [],
   "source": [
    "# Configurer la connexion à la base de données\n",
    "db_path = r'C:\\Document\\Python\\Projet\\Projet_3\\Top_gun\\bdd_sql\\top_gun_data_1.db'\n",
    "\n",
    "engine = create_engine(f'sqlite:///{db_path}')"
   ]
  },
  {
   "cell_type": "code",
   "execution_count": 6,
   "metadata": {},
   "outputs": [
    {
     "data": {
      "text/plain": [
       "10350"
      ]
     },
     "execution_count": 6,
     "metadata": {},
     "output_type": "execute_result"
    }
   ],
   "source": [
    "# Ajouter les données aux tables correspondantes dans la base de données\n",
    "aero_data.to_sql(name='aeronefs', con=engine, if_exists='append', index=False)\n",
    "compo_data.to_sql(name='composants', con=engine, if_exists='append', index=False)"
   ]
  }
 ],
 "metadata": {
  "kernelspec": {
   "display_name": "Python 3",
   "language": "python",
   "name": "python3"
  },
  "language_info": {
   "codemirror_mode": {
    "name": "ipython",
    "version": 3
   },
   "file_extension": ".py",
   "mimetype": "text/x-python",
   "name": "python",
   "nbconvert_exporter": "python",
   "pygments_lexer": "ipython3",
   "version": "3.12.3"
  }
 },
 "nbformat": 4,
 "nbformat_minor": 2
}
