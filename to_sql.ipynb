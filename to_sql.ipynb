{
 "cells": [
  {
   "cell_type": "code",
   "execution_count": 1,
   "metadata": {},
   "outputs": [],
   "source": [
    "import pandas as pd\n",
    "import requests\n",
    "from datetime import datetime\n",
    "from sqlalchemy import create_engine\n",
    "import os\n",
    "import pandas as pd"
   ]
  },
  {
   "cell_type": "code",
   "execution_count": 2,
   "metadata": {},
   "outputs": [],
   "source": [
    "# Définir le chemin du dossier contenant les données\n",
    "data_folder = os.path.join('Data_clean')\n",
    "data_bdd = os.path.join('bdd_sql')\n",
    "\n",
    "# Chemin vers les fichiers CSV\n",
    "aero_file = os.path.join(data_folder, 'df_aeronef_clean.csv')\n",
    "compo_file = os.path.join(data_folder, 'df_composants_clean.csv')\n",
    "\n",
    "# Chemin vers les fichiers db\n",
    "db_path = os.path.join(data_bdd,'top_gun_data_1.db')"
   ]
  },
  {
   "cell_type": "code",
   "execution_count": 3,
   "metadata": {},
   "outputs": [],
   "source": [
    "# Charger les données\n",
    "aero_data = pd.read_csv(aero_file)\n",
    "compo_data = pd.read_csv(compo_file)"
   ]
  },
  {
   "cell_type": "code",
   "execution_count": 4,
   "metadata": {},
   "outputs": [],
   "source": [
    "# Fonction de nettoyage\n",
    "def nettoyer_donnees(aero_data, compo_data, ref_aero='E170_5551'):\n",
    "    # Supprimer les lignes correspondant à 'E170_5551' dans aero_data\n",
    "    aero_data = aero_data[aero_data['ref_aero'] != ref_aero]\n",
    "    \n",
    "    # Supprimer les lignes correspondant à 'E170_5551' dans compo_data\n",
    "    compo_data = compo_data[compo_data['aero'] != ref_aero]\n",
    "    \n",
    "    return aero_data, compo_data"
   ]
  },
  {
   "cell_type": "code",
   "execution_count": 5,
   "metadata": {},
   "outputs": [],
   "source": [
    "# Appliquer la fonction de nettoyage\n",
    "aero_data, compo_data = nettoyer_donnees(aero_data, compo_data)"
   ]
  },
  {
   "cell_type": "code",
   "execution_count": 6,
   "metadata": {},
   "outputs": [],
   "source": [
    "# Configurer la connexion à la base de données\n",
    "\n",
    "engine = create_engine(f'sqlite:///{db_path}')"
   ]
  },
  {
   "cell_type": "code",
   "execution_count": 7,
   "metadata": {},
   "outputs": [
    {
     "data": {
      "text/plain": [
       "10350"
      ]
     },
     "execution_count": 7,
     "metadata": {},
     "output_type": "execute_result"
    }
   ],
   "source": [
    "# Ajouter les données aux tables correspondantes dans la base de données\n",
    "aero_data.to_sql(name='aeronefs', con=engine, if_exists='append', index=False)\n",
    "compo_data.to_sql(name='composants', con=engine, if_exists='append', index=False)"
   ]
  }
 ],
 "metadata": {
  "kernelspec": {
   "display_name": "Python 3",
   "language": "python",
   "name": "python3"
  },
  "language_info": {
   "codemirror_mode": {
    "name": "ipython",
    "version": 3
   },
   "file_extension": ".py",
   "mimetype": "text/x-python",
   "name": "python",
   "nbconvert_exporter": "python",
   "pygments_lexer": "ipython3",
   "version": "3.12.2"
  }
 },
 "nbformat": 4,
 "nbformat_minor": 2
}
